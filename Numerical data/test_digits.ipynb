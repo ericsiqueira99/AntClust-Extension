{
 "cells": [
  {
   "cell_type": "markdown",
   "metadata": {},
   "source": [
    "# Digits clustering\n",
    "Compare k-means with Antclust for comparing breast cancer data (digits dataset https://scikit-learn.org/stable/auto_examples/datasets/plot_digits_last_image.html#:~:text=This%20dataset%20is%20made%20up,feature%20vector%20with%20length%2064.)"
   ]
  },
  {
   "cell_type": "code",
   "execution_count": 6,
   "metadata": {},
   "outputs": [
    {
     "name": "stdout",
     "output_type": "stream",
     "text": [
      "Number of features: 64\n",
      "Number of data points: 1797\n",
      "Number of classes: 10\n"
     ]
    }
   ],
   "source": [
    "from sklearn.cluster import KMeans\n",
    "from sklearn import datasets\n",
    "import matplotlib.pyplot as plt\n",
    "import numpy as np\n",
    "from sklearn.datasets import load_digits\n",
    "\n",
    "\n",
    "# Load the digits dataset\n",
    "digits = load_digits()\n",
    "data = digits.data\n",
    "labels = digits.target\n",
    "num_cluster = len(np.unique(labels))\n",
    "print(f\"Number of features: {len(data[0])}\\nNumber of data points: {len(data)}\\nNumber of classes: {num_cluster}\")\n"
   ]
  },
  {
   "cell_type": "markdown",
   "metadata": {},
   "source": [
    "# K-Means"
   ]
  },
  {
   "cell_type": "code",
   "execution_count": 13,
   "metadata": {},
   "outputs": [],
   "source": [
    "#Finding the optimum number of clusters for k-means classification\n",
    "from sklearn.cluster import KMeans\n",
    "\n",
    "cluster_results = []\n",
    "for k in range(8,13):\n",
    "    # Initialize the KMeans model\n",
    "    kmeans = KMeans(n_clusters=k, random_state=42)\n",
    "    # Fit the model to the data\n",
    "    kmeans.fit(data)\n",
    "    cluster_results.append((k,kmeans.labels_))"
   ]
  },
  {
   "cell_type": "markdown",
   "metadata": {},
   "source": [
    "# AntClust"
   ]
  },
  {
   "cell_type": "code",
   "execution_count": 3,
   "metadata": {},
   "outputs": [
    {
     "name": "stdout",
     "output_type": "stream",
     "text": [
      "AntClust: phase 1 of 3 -> meeting ants\n",
      "Meeting 134775 / 134775\n",
      "Meeting 107820 / 134775\n",
      "Meeting 80865 / 134775\n",
      "Meeting 53910 / 134775\n",
      "Meeting 26955 / 134775\n",
      "AntClust: phase 2 of 3 -> shrink nests\n",
      "AntClust: phase 3 of 3 -> reassign ants\n"
     ]
    }
   ],
   "source": [
    "# ----------------------\n",
    "#       imports\n",
    "# ----------------------\n",
    "# import opencv\n",
    "import cv2 as cv\n",
    "# matplotlib\n",
    "import matplotlib.pyplot as plt\n",
    "from sklearn.metrics import pairwise_distances\n",
    "\n",
    "# make AntClus dir known\n",
    "import sys\n",
    "sys.path.append(\"../AntClust\")\n",
    "# import AntClust\n",
    "from AntClust import AntClust\n",
    "from importlib import reload\n",
    "import distance_classes\n",
    "reload(distance_classes)\n",
    "# import the rule set\n",
    "from rules import labroche_rules\n",
    "\n",
    "# Compute pairwise Euclidean distances\n",
    "distances = pairwise_distances(data, metric='euclidean')\n",
    "\n",
    "# Get the minimum and maximum distances\n",
    "min_distance = np.min(distances)  # Exclude zeros on the diagonal\n",
    "max_distance = np.max(distances)\n",
    "\n",
    "f_sim = [distance_classes.similarity_euclid(min_distance, max_distance)]\n",
    "ant_clust = AntClust(f_sim, labroche_rules())\n",
    "ant_clust.fit([[d] for d in data])\n",
    "clusters_found = ant_clust.get_clusters()"
   ]
  },
  {
   "cell_type": "markdown",
   "metadata": {},
   "source": [
    "# AntClust Cosine Similarity"
   ]
  },
  {
   "cell_type": "code",
   "execution_count": 12,
   "metadata": {},
   "outputs": [
    {
     "data": {
      "application/vnd.jupyter.widget-view+json": {
       "model_id": "295f5a7531224f1cbbf234721bd9a4e9",
       "version_major": 2,
       "version_minor": 0
      },
      "text/plain": [
       "Batches:   0%|          | 0/8 [00:00<?, ?it/s]"
      ]
     },
     "metadata": {},
     "output_type": "display_data"
    },
    {
     "name": "stdout",
     "output_type": "stream",
     "text": [
      "AntClust: phase 1 of 3 -> meeting ants\n",
      "Meeting 134775 / 134775\n",
      "Meeting 107820 / 134775\n",
      "Meeting 80865 / 134775\n",
      "Meeting 53910 / 134775\n",
      "Meeting 26955 / 134775\n",
      "AntClust: phase 2 of 3 -> shrink nests\n",
      "AntClust: phase 3 of 3 -> reassign ants\n"
     ]
    }
   ],
   "source": [
    "# ----------------------\n",
    "#       imports\n",
    "# ----------------------\n",
    "# import opencv\n",
    "import cv2 as cv\n",
    "# matplotlib\n",
    "import matplotlib.pyplot as plt\n",
    "from sklearn.metrics import pairwise_distances\n",
    "\n",
    "# make AntClus dir known\n",
    "import sys\n",
    "sys.path.append(\"../AntClust\")\n",
    "# import AntClust\n",
    "from AntClust import AntClust\n",
    "from importlib import reload\n",
    "import distance_classes\n",
    "reload(distance_classes)\n",
    "# import the rule set\n",
    "from rules import labroche_rules\n",
    "\n",
    "f_sim = [distance_classes.image_cosine_similarity(img_tensor=data)]\n",
    "ant_clust = AntClust(f_sim, labroche_rules())\n",
    "ant_clust.fit([[d] for d in range(len(data))])\n",
    "clusters_found_cos = ant_clust.get_clusters()"
   ]
  },
  {
   "cell_type": "markdown",
   "metadata": {},
   "source": [
    "# Metrics"
   ]
  },
  {
   "cell_type": "code",
   "execution_count": 16,
   "metadata": {},
   "outputs": [
    {
     "data": {
      "text/html": [
       "<div>\n",
       "<style scoped>\n",
       "    .dataframe tbody tr th:only-of-type {\n",
       "        vertical-align: middle;\n",
       "    }\n",
       "\n",
       "    .dataframe tbody tr th {\n",
       "        vertical-align: top;\n",
       "    }\n",
       "\n",
       "    .dataframe thead th {\n",
       "        text-align: right;\n",
       "    }\n",
       "</style>\n",
       "<table border=\"1\" class=\"dataframe\">\n",
       "  <thead>\n",
       "    <tr style=\"text-align: right;\">\n",
       "      <th></th>\n",
       "      <th>Homogeneity</th>\n",
       "      <th>Completeness</th>\n",
       "      <th>V-measure</th>\n",
       "      <th>Adjusted Rand-Index</th>\n",
       "    </tr>\n",
       "  </thead>\n",
       "  <tbody>\n",
       "    <tr>\n",
       "      <th>AntClust (euclidean distance)</th>\n",
       "      <td>0.809031</td>\n",
       "      <td>0.640100</td>\n",
       "      <td>0.714719</td>\n",
       "      <td>0.519198</td>\n",
       "    </tr>\n",
       "    <tr>\n",
       "      <th>K-means (k=8)</th>\n",
       "      <td>0.669316</td>\n",
       "      <td>0.764487</td>\n",
       "      <td>0.713743</td>\n",
       "      <td>0.579670</td>\n",
       "    </tr>\n",
       "    <tr>\n",
       "      <th>K-means (k=9)</th>\n",
       "      <td>0.692027</td>\n",
       "      <td>0.750020</td>\n",
       "      <td>0.719858</td>\n",
       "      <td>0.597194</td>\n",
       "    </tr>\n",
       "    <tr>\n",
       "      <th>K-means (k=10)</th>\n",
       "      <td>0.737745</td>\n",
       "      <td>0.745229</td>\n",
       "      <td>0.741468</td>\n",
       "      <td>0.664962</td>\n",
       "    </tr>\n",
       "    <tr>\n",
       "      <th>K-means (k=11)</th>\n",
       "      <td>0.790131</td>\n",
       "      <td>0.763908</td>\n",
       "      <td>0.776799</td>\n",
       "      <td>0.731170</td>\n",
       "    </tr>\n",
       "    <tr>\n",
       "      <th>K-means (k=12)</th>\n",
       "      <td>0.793983</td>\n",
       "      <td>0.744832</td>\n",
       "      <td>0.768623</td>\n",
       "      <td>0.703364</td>\n",
       "    </tr>\n",
       "  </tbody>\n",
       "</table>\n",
       "</div>"
      ],
      "text/plain": [
       "                               Homogeneity  Completeness  V-measure  \\\n",
       "AntClust (euclidean distance)     0.809031      0.640100   0.714719   \n",
       "K-means (k=8)                     0.669316      0.764487   0.713743   \n",
       "K-means (k=9)                     0.692027      0.750020   0.719858   \n",
       "K-means (k=10)                    0.737745      0.745229   0.741468   \n",
       "K-means (k=11)                    0.790131      0.763908   0.776799   \n",
       "K-means (k=12)                    0.793983      0.744832   0.768623   \n",
       "\n",
       "                               Adjusted Rand-Index  \n",
       "AntClust (euclidean distance)             0.519198  \n",
       "K-means (k=8)                             0.579670  \n",
       "K-means (k=9)                             0.597194  \n",
       "K-means (k=10)                            0.664962  \n",
       "K-means (k=11)                            0.731170  \n",
       "K-means (k=12)                            0.703364  "
      ]
     },
     "execution_count": 16,
     "metadata": {},
     "output_type": "execute_result"
    }
   ],
   "source": [
    "from sklearn import metrics\n",
    "import pandas as pd\n",
    "df = pd.DataFrame()\n",
    "\n",
    "\n",
    "homogeneity_score = metrics.homogeneity_score(digits.target, clusters_found)\n",
    "completeness_score = metrics.completeness_score(digits.target, clusters_found)\n",
    "v_score = metrics.v_measure_score(digits.target, clusters_found)\n",
    "ari_score = metrics.adjusted_rand_score(digits.target, clusters_found)\n",
    "pd_data = {\n",
    "    'Homogeneity': homogeneity_score,\n",
    "    'Completeness': completeness_score,\n",
    "    'V-measure': v_score,\n",
    "    'Adjusted Rand-Index': ari_score,\n",
    "}\n",
    "\n",
    "# Creating a new DataFrame with the data for the new row\n",
    "new_row = pd.DataFrame(pd_data, index=[\"AntClust (euclidean distance)\"])\n",
    "df = pd.concat([df, new_row])\n",
    "\n",
    "for k, k_label in cluster_results:\n",
    "    homogeneity_score = metrics.homogeneity_score(digits.target, k_label)\n",
    "    completeness_score = metrics.completeness_score(digits.target, k_label)\n",
    "    v_score = metrics.v_measure_score(digits.target, k_label)\n",
    "    ari_score = metrics.adjusted_rand_score(digits.target, k_label)\n",
    "    pd_data = {\n",
    "        'Homogeneity': homogeneity_score,\n",
    "        'Completeness': completeness_score,\n",
    "        'V-measure': v_score,\n",
    "        'Adjusted Rand-Index': ari_score,\n",
    "    }\n",
    "    new_row = pd.DataFrame(pd_data, index=[f\"K-means (k={k})\"])\n",
    "    df = pd.concat([df, new_row])\n",
    "\n",
    "df\n"
   ]
  },
  {
   "cell_type": "code",
   "execution_count": null,
   "metadata": {},
   "outputs": [],
   "source": []
  }
 ],
 "metadata": {
  "kernelspec": {
   "display_name": "base",
   "language": "python",
   "name": "python3"
  },
  "language_info": {
   "codemirror_mode": {
    "name": "ipython",
    "version": 3
   },
   "file_extension": ".py",
   "mimetype": "text/x-python",
   "name": "python",
   "nbconvert_exporter": "python",
   "pygments_lexer": "ipython3",
   "version": "3.9.13"
  }
 },
 "nbformat": 4,
 "nbformat_minor": 2
}
