{
 "cells": [
  {
   "cell_type": "markdown",
   "metadata": {
    "papermill": {
     "duration": 0.009283,
     "end_time": "2020-08-30T16:00:19.366750",
     "exception": false,
     "start_time": "2020-08-30T16:00:19.357467",
     "status": "completed"
    },
    "tags": []
   },
   "source": [
    "# K-means Clustering of Numerical Data\n",
    "\n",
    "Source: https://www.kaggle.com/code/khotijahs1/k-means-clustering-of-iris-dataset\n",
    "\n",
    "The Iris flower data set or Fisher's Iris data set is a multivariate data set introduced by the British statistician, eugenicist, and biologist Ronald Fisher in his 1936 paper The use of multiple measurements in taxonomic problems as an example of linear discriminant analysis.[[1](https://en.wikipedia.org/wiki/Iris_flower_data_set#:~:text=The%20Iris%20flower%20data%20set,example%20of%20linear%20discriminant%20analysis.)] It is sometimes called Anderson's Iris data set because Edgar Anderson collected the data to quantify the morphologic variation of Iris flowers of three related species.[2] Two of the three species were collected in the Gaspé Peninsula \"all from the same pasture, and picked on the same day and measured at the same time by the same person with the same apparatus\".[3] Fisher's paper was published in the journal, the Annals of Eugenics, creating controversy about the continued use of the Iris dataset for teaching statistical techniques today.\n",
    "\n",
    "The data set consists of 50 samples from each of three species of Iris (Iris setosa, Iris virginica and Iris versicolor). Four features were measured from each sample: the length and the width of the sepals and petals, in centimeters. Based on the combination of these four features, Fisher developed a linear discriminant model to distinguish the species from each other."
   ]
  },
  {
   "attachments": {},
   "cell_type": "markdown",
   "metadata": {
    "papermill": {
     "duration": 0.007463,
     "end_time": "2020-08-30T16:00:19.382402",
     "exception": false,
     "start_time": "2020-08-30T16:00:19.374939",
     "status": "completed"
    },
    "tags": []
   },
   "source": [
    "![https://miro.medium.com/max/2550/0*GVjzZeYrir0R_6-X.png](https://miro.medium.com/max/2550/0*GVjzZeYrir0R_6-X.png)\n",
    "\n",
    "source image:https://miro.medium.com/max/2550/0*GVjzZeYrir0R_6-X.png"
   ]
  },
  {
   "cell_type": "markdown",
   "metadata": {
    "papermill": {
     "duration": 0.009162,
     "end_time": "2020-08-30T16:00:19.399360",
     "exception": false,
     "start_time": "2020-08-30T16:00:19.390198",
     "status": "completed"
    },
    "tags": []
   },
   "source": [
    "This study we try to clustering Iris Dataset used Kmeans\n",
    "\n",
    "[Attribute Information:\n",
    "](https://archive.ics.uci.edu/ml/datasets/iris)\n",
    "1. sepal length in cm\n",
    "2. sepal width in cm\n",
    "3. petal length in cm\n",
    "4. petal width in cm\n",
    "5. class:\n",
    "-- Iris Setosa\n",
    "-- Iris Versicolour\n",
    "-- Iris Virginica"
   ]
  },
  {
   "cell_type": "markdown",
   "metadata": {
    "papermill": {
     "duration": 0.007389,
     "end_time": "2020-08-30T16:00:19.414424",
     "exception": false,
     "start_time": "2020-08-30T16:00:19.407035",
     "status": "completed"
    },
    "tags": []
   },
   "source": [
    "import libraries"
   ]
  },
  {
   "cell_type": "code",
   "execution_count": 1,
   "metadata": {
    "_cell_guid": "b1076dfc-b9ad-4769-8c92-a6c4dae69d19",
    "_uuid": "8f2839f25d086af736a60e9eeb907d3b93b6e0e5",
    "execution": {
     "iopub.execute_input": "2020-08-30T16:00:19.437596Z",
     "iopub.status.busy": "2020-08-30T16:00:19.436851Z",
     "iopub.status.idle": "2020-08-30T16:00:20.704106Z",
     "shell.execute_reply": "2020-08-30T16:00:20.703288Z"
    },
    "papermill": {
     "duration": 1.28205,
     "end_time": "2020-08-30T16:00:20.704247",
     "exception": false,
     "start_time": "2020-08-30T16:00:19.422197",
     "status": "completed"
    },
    "tags": []
   },
   "outputs": [],
   "source": [
    "import pandas as pd\n",
    "import numpy as np\n",
    "import matplotlib.pyplot as plt \n",
    "import seaborn as sns\n",
    "from sklearn.cluster import KMeans \n",
    "from sklearn.metrics import silhouette_score\n",
    "from sklearn.preprocessing import MinMaxScaler"
   ]
  },
  {
   "cell_type": "markdown",
   "metadata": {
    "papermill": {
     "duration": 0.007997,
     "end_time": "2020-08-30T16:00:20.720418",
     "exception": false,
     "start_time": "2020-08-30T16:00:20.712421",
     "status": "completed"
    },
    "tags": []
   },
   "source": [
    "reading dataset"
   ]
  },
  {
   "cell_type": "code",
   "execution_count": 24,
   "metadata": {
    "_cell_guid": "79c7e3d0-c299-4dcb-8224-4455121ee9b0",
    "_uuid": "d629ff2d2480ee46fbb7e2d37f6b5fab8052498a",
    "execution": {
     "iopub.execute_input": "2020-08-30T16:00:20.750499Z",
     "iopub.status.busy": "2020-08-30T16:00:20.749617Z",
     "iopub.status.idle": "2020-08-30T16:00:20.764098Z",
     "shell.execute_reply": "2020-08-30T16:00:20.764728Z"
    },
    "papermill": {
     "duration": 0.036656,
     "end_time": "2020-08-30T16:00:20.764910",
     "exception": false,
     "start_time": "2020-08-30T16:00:20.728254",
     "status": "completed"
    },
    "tags": []
   },
   "outputs": [
    {
     "name": "stdout",
     "output_type": "stream",
     "text": [
      "Number of features: 4\n",
      "Number of data points: 150\n"
     ]
    }
   ],
   "source": [
    "from sklearn import datasets\n",
    "from sklearn.metrics import pairwise_distances\n",
    "\n",
    "# Load the Iris dataset\n",
    "iris = datasets.load_iris()\n",
    "data = iris.data\n",
    "print(f\"Number of features: {len(data[0])}\\nNumber of data points: {len(data)}\")\n",
    "x = data\n"
   ]
  },
  {
   "cell_type": "markdown",
   "metadata": {
    "papermill": {
     "duration": 0.011981,
     "end_time": "2020-08-30T16:00:30.335004",
     "exception": false,
     "start_time": "2020-08-30T16:00:30.323023",
     "status": "completed"
    },
    "tags": []
   },
   "source": [
    "# K-Means"
   ]
  },
  {
   "cell_type": "markdown",
   "metadata": {
    "papermill": {
     "duration": 0.011736,
     "end_time": "2020-08-30T16:00:30.358843",
     "exception": false,
     "start_time": "2020-08-30T16:00:30.347107",
     "status": "completed"
    },
    "tags": []
   },
   "source": [
    "[K-means](http://https://www.analyticsvidhya.com/blog/2019/08/comprehensive-guide-k-means-clustering/) is a centroid-based algorithm, or a distance-based algorithm, where we calculate the distances to assign a point to a cluster. In K-Means, each cluster is associated with a centroid."
   ]
  },
  {
   "cell_type": "markdown",
   "metadata": {
    "papermill": {
     "duration": 0.012068,
     "end_time": "2020-08-30T16:00:30.382983",
     "exception": false,
     "start_time": "2020-08-30T16:00:30.370915",
     "status": "completed"
    },
    "tags": []
   },
   "source": [
    "# How to Implementing K-Means Clustering ?\n",
    "\n",
    "* Choose the number of clusters k\n",
    "* Select k random points from the data as centroids\n",
    "* Assign all the points to the closest cluster centroid\n",
    "* Recompute the centroids of newly formed clusters\n",
    "* Repeat steps 3 and 4\n"
   ]
  },
  {
   "cell_type": "code",
   "execution_count": 19,
   "metadata": {
    "execution": {
     "iopub.execute_input": "2020-08-30T16:00:30.416111Z",
     "iopub.status.busy": "2020-08-30T16:00:30.414986Z",
     "iopub.status.idle": "2020-08-30T16:00:30.908445Z",
     "shell.execute_reply": "2020-08-30T16:00:30.907613Z"
    },
    "papermill": {
     "duration": 0.513639,
     "end_time": "2020-08-30T16:00:30.908576",
     "exception": false,
     "start_time": "2020-08-30T16:00:30.394937",
     "status": "completed"
    },
    "tags": []
   },
   "outputs": [],
   "source": [
    "#Finding the optimum number of clusters for k-means classification\n",
    "from sklearn.cluster import KMeans\n",
    "\n",
    "num_clusters = 3\n",
    "cluster_results = []\n",
    "for k in range(2,9):\n",
    "    # Initialize the KMeans model\n",
    "    kmeans = KMeans(n_clusters=k, random_state=42)\n",
    "    # Fit the model to the data\n",
    "    kmeans.fit(data)\n",
    "    cluster_results.append((k,kmeans.labels_))"
   ]
  },
  {
   "cell_type": "markdown",
   "metadata": {},
   "source": [
    "# AntClust"
   ]
  },
  {
   "cell_type": "code",
   "execution_count": 21,
   "metadata": {},
   "outputs": [
    {
     "name": "stdout",
     "output_type": "stream",
     "text": [
      "AntClust: phase 1 of 3 -> meeting ants\n",
      "Meeting 11250 / 11250\n",
      "Meeting 10125 / 11250\n",
      "Meeting 9000 / 11250\n",
      "Meeting 7875 / 11250\n",
      "Meeting 6750 / 11250\n",
      "Meeting 5625 / 11250\n",
      "Meeting 4500 / 11250\n",
      "Meeting 3375 / 11250\n",
      "Meeting 2250 / 11250\n",
      "Meeting 1125 / 11250\n",
      "AntClust: phase 2 of 3 -> shrink nests\n",
      "AntClust: phase 3 of 3 -> reassign ants\n"
     ]
    }
   ],
   "source": [
    "# ----------------------\n",
    "#       imports\n",
    "# ----------------------\n",
    "# import opencv\n",
    "import cv2 as cv\n",
    "# matplotlib\n",
    "import matplotlib.pyplot as plt\n",
    "from sklearn.metrics import pairwise_distances\n",
    "\n",
    "# make AntClus dir known\n",
    "import sys\n",
    "sys.path.append(\"../AntClust\")\n",
    "# import AntClust\n",
    "from AntClust import AntClust\n",
    "from importlib import reload\n",
    "import distance_classes\n",
    "reload(distance_classes)\n",
    "# import the rule set\n",
    "from rules import labroche_rules\n",
    "\n",
    "# Compute pairwise Euclidean distances\n",
    "distances = pairwise_distances(data, metric='euclidean')\n",
    "\n",
    "# Get the minimum and maximum distances\n",
    "min_distance = np.min(distances)  # Exclude zeros on the diagonal\n",
    "max_distance = np.max(distances)\n",
    "\n",
    "f_sim = [distance_classes.similarity_euclid(min_distance, max_distance)]\n",
    "ant_clust = AntClust(f_sim, labroche_rules())\n",
    "ant_clust.fit([[d] for d in data])\n",
    "clusters_found = ant_clust.get_clusters()"
   ]
  },
  {
   "cell_type": "markdown",
   "metadata": {},
   "source": [
    "# Metrics"
   ]
  },
  {
   "cell_type": "code",
   "execution_count": 23,
   "metadata": {},
   "outputs": [
    {
     "data": {
      "text/html": [
       "<div>\n",
       "<style scoped>\n",
       "    .dataframe tbody tr th:only-of-type {\n",
       "        vertical-align: middle;\n",
       "    }\n",
       "\n",
       "    .dataframe tbody tr th {\n",
       "        vertical-align: top;\n",
       "    }\n",
       "\n",
       "    .dataframe thead th {\n",
       "        text-align: right;\n",
       "    }\n",
       "</style>\n",
       "<table border=\"1\" class=\"dataframe\">\n",
       "  <thead>\n",
       "    <tr style=\"text-align: right;\">\n",
       "      <th></th>\n",
       "      <th>Homogeneity</th>\n",
       "      <th>Completeness</th>\n",
       "      <th>V-measure</th>\n",
       "      <th>Adjusted Rand-Index</th>\n",
       "    </tr>\n",
       "  </thead>\n",
       "  <tbody>\n",
       "    <tr>\n",
       "      <th>AntClust (euclidean distance)</th>\n",
       "      <td>0.667307</td>\n",
       "      <td>0.664601</td>\n",
       "      <td>0.665951</td>\n",
       "      <td>0.544441</td>\n",
       "    </tr>\n",
       "    <tr>\n",
       "      <th>K-means (k=2)</th>\n",
       "      <td>0.522322</td>\n",
       "      <td>0.883514</td>\n",
       "      <td>0.656519</td>\n",
       "      <td>0.539922</td>\n",
       "    </tr>\n",
       "    <tr>\n",
       "      <th>K-means (k=3)</th>\n",
       "      <td>0.751485</td>\n",
       "      <td>0.764986</td>\n",
       "      <td>0.758176</td>\n",
       "      <td>0.730238</td>\n",
       "    </tr>\n",
       "    <tr>\n",
       "      <th>K-means (k=4)</th>\n",
       "      <td>0.808314</td>\n",
       "      <td>0.652211</td>\n",
       "      <td>0.721920</td>\n",
       "      <td>0.649818</td>\n",
       "    </tr>\n",
       "    <tr>\n",
       "      <th>K-means (k=5)</th>\n",
       "      <td>0.823883</td>\n",
       "      <td>0.599287</td>\n",
       "      <td>0.693863</td>\n",
       "      <td>0.607896</td>\n",
       "    </tr>\n",
       "    <tr>\n",
       "      <th>K-means (k=6)</th>\n",
       "      <td>0.823883</td>\n",
       "      <td>0.520492</td>\n",
       "      <td>0.637954</td>\n",
       "      <td>0.447534</td>\n",
       "    </tr>\n",
       "    <tr>\n",
       "      <th>K-means (k=7)</th>\n",
       "      <td>0.914483</td>\n",
       "      <td>0.524576</td>\n",
       "      <td>0.666707</td>\n",
       "      <td>0.474661</td>\n",
       "    </tr>\n",
       "    <tr>\n",
       "      <th>K-means (k=8)</th>\n",
       "      <td>0.925560</td>\n",
       "      <td>0.513151</td>\n",
       "      <td>0.660247</td>\n",
       "      <td>0.463783</td>\n",
       "    </tr>\n",
       "  </tbody>\n",
       "</table>\n",
       "</div>"
      ],
      "text/plain": [
       "                               Homogeneity  Completeness  V-measure  \\\n",
       "AntClust (euclidean distance)     0.667307      0.664601   0.665951   \n",
       "K-means (k=2)                     0.522322      0.883514   0.656519   \n",
       "K-means (k=3)                     0.751485      0.764986   0.758176   \n",
       "K-means (k=4)                     0.808314      0.652211   0.721920   \n",
       "K-means (k=5)                     0.823883      0.599287   0.693863   \n",
       "K-means (k=6)                     0.823883      0.520492   0.637954   \n",
       "K-means (k=7)                     0.914483      0.524576   0.666707   \n",
       "K-means (k=8)                     0.925560      0.513151   0.660247   \n",
       "\n",
       "                               Adjusted Rand-Index  \n",
       "AntClust (euclidean distance)             0.544441  \n",
       "K-means (k=2)                             0.539922  \n",
       "K-means (k=3)                             0.730238  \n",
       "K-means (k=4)                             0.649818  \n",
       "K-means (k=5)                             0.607896  \n",
       "K-means (k=6)                             0.447534  \n",
       "K-means (k=7)                             0.474661  \n",
       "K-means (k=8)                             0.463783  "
      ]
     },
     "execution_count": 23,
     "metadata": {},
     "output_type": "execute_result"
    }
   ],
   "source": [
    "from sklearn import metrics\n",
    "\n",
    "df = pd.DataFrame()\n",
    "\n",
    "\n",
    "homogeneity_score = metrics.homogeneity_score(iris.target, clusters_found)\n",
    "completeness_score = metrics.completeness_score(iris.target, clusters_found)\n",
    "v_score = metrics.v_measure_score(iris.target, clusters_found)\n",
    "ari_score = metrics.adjusted_rand_score(iris.target, clusters_found)\n",
    "data = {\n",
    "    'Homogeneity': homogeneity_score,\n",
    "    'Completeness': completeness_score,\n",
    "    'V-measure': v_score,\n",
    "    'Adjusted Rand-Index': ari_score,\n",
    "}\n",
    "\n",
    "# Creating a new DataFrame with the data for the new row\n",
    "new_row = pd.DataFrame(data, index=[\"AntClust (euclidean distance)\"])\n",
    "df = pd.concat([df, new_row])\n",
    "\n",
    "for k, k_label in cluster_results:\n",
    "    homogeneity_score = metrics.homogeneity_score(iris.target, k_label)\n",
    "    completeness_score = metrics.completeness_score(iris.target, k_label)\n",
    "    v_score = metrics.v_measure_score(iris.target, k_label)\n",
    "    ari_score = metrics.adjusted_rand_score(iris.target, k_label)\n",
    "    data = {\n",
    "        'Homogeneity': homogeneity_score,\n",
    "        'Completeness': completeness_score,\n",
    "        'V-measure': v_score,\n",
    "        'Adjusted Rand-Index': ari_score,\n",
    "    }\n",
    "    new_row = pd.DataFrame(data, index=[f\"K-means (k={k})\"])\n",
    "    df = pd.concat([df, new_row])\n",
    "\n",
    "df\n"
   ]
  },
  {
   "cell_type": "code",
   "execution_count": null,
   "metadata": {},
   "outputs": [],
   "source": []
  }
 ],
 "metadata": {
  "kernelspec": {
   "display_name": "Python 3",
   "language": "python",
   "name": "python3"
  },
  "language_info": {
   "codemirror_mode": {
    "name": "ipython",
    "version": 3
   },
   "file_extension": ".py",
   "mimetype": "text/x-python",
   "name": "python",
   "nbconvert_exporter": "python",
   "pygments_lexer": "ipython3",
   "version": "3.9.13"
  },
  "papermill": {
   "duration": 17.31099,
   "end_time": "2020-08-30T16:00:32.174557",
   "environment_variables": {},
   "exception": null,
   "input_path": "__notebook__.ipynb",
   "output_path": "__notebook__.ipynb",
   "parameters": {},
   "start_time": "2020-08-30T16:00:14.863567",
   "version": "2.1.0"
  }
 },
 "nbformat": 4,
 "nbformat_minor": 4
}
