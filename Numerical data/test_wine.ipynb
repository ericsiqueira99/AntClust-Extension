{
 "cells": [
  {
   "cell_type": "markdown",
   "metadata": {},
   "source": [
    "# Wine clustering\n",
    "Compare k-means with Antclust for comparing numerical data (wine dataset https://archive.ics.uci.edu/dataset/109/wine)"
   ]
  },
  {
   "cell_type": "code",
   "execution_count": 1,
   "metadata": {},
   "outputs": [
    {
     "name": "stdout",
     "output_type": "stream",
     "text": [
      "Number of features: 13\n",
      "Number of data points: 178\n",
      "3\n"
     ]
    }
   ],
   "source": [
    "from sklearn.cluster import KMeans\n",
    "from sklearn import datasets\n",
    "import matplotlib.pyplot as plt\n",
    "import numpy as np\n",
    "\n",
    "# Load the Wine dataset\n",
    "wine = datasets.load_wine()\n",
    "data = wine.data\n",
    "labels = wine.target\n",
    "num_cluster = len(np.unique(labels))\n",
    "print(f\"Number of features: {len(data[0])}\\nNumber of data points: {len(data)}\")\n",
    "print(num_cluster)"
   ]
  },
  {
   "cell_type": "markdown",
   "metadata": {},
   "source": [
    "# K-Means"
   ]
  },
  {
   "cell_type": "code",
   "execution_count": 10,
   "metadata": {},
   "outputs": [],
   "source": [
    "#Finding the optimum number of clusters for k-means classification\n",
    "from sklearn.cluster import KMeans\n",
    "\n",
    "cluster_results = []\n",
    "for k in range(2,9):\n",
    "    # Initialize the KMeans model\n",
    "    kmeans = KMeans(n_clusters=k, random_state=42)\n",
    "    # Fit the model to the data\n",
    "    kmeans.fit(data)\n",
    "    cluster_results.append((k,kmeans.labels_))"
   ]
  },
  {
   "cell_type": "markdown",
   "metadata": {},
   "source": [
    "AntClust"
   ]
  },
  {
   "cell_type": "code",
   "execution_count": 11,
   "metadata": {},
   "outputs": [
    {
     "name": "stdout",
     "output_type": "stream",
     "text": [
      "AntClust: phase 1 of 3 -> meeting ants\n",
      "Meeting 13350 / 13350\n",
      "Meeting 12015 / 13350\n",
      "Meeting 10680 / 13350\n",
      "Meeting 9345 / 13350\n",
      "Meeting 8010 / 13350\n",
      "Meeting 6675 / 13350\n",
      "Meeting 5340 / 13350\n",
      "Meeting 4005 / 13350\n",
      "Meeting 2670 / 13350\n",
      "Meeting 1335 / 13350\n",
      "AntClust: phase 2 of 3 -> shrink nests\n",
      "AntClust: phase 3 of 3 -> reassign ants\n"
     ]
    }
   ],
   "source": [
    "# ----------------------\n",
    "#       imports\n",
    "# ----------------------\n",
    "# import opencv\n",
    "import cv2 as cv\n",
    "# matplotlib\n",
    "import matplotlib.pyplot as plt\n",
    "from sklearn.metrics import pairwise_distances\n",
    "\n",
    "# make AntClus dir known\n",
    "import sys\n",
    "sys.path.append(\"../AntClust\")\n",
    "# import AntClust\n",
    "from AntClust import AntClust\n",
    "from importlib import reload\n",
    "import distance_classes\n",
    "reload(distance_classes)\n",
    "# import the rule set\n",
    "from rules import labroche_rules\n",
    "\n",
    "# Compute pairwise Euclidean distances\n",
    "distances = pairwise_distances(data, metric='euclidean')\n",
    "\n",
    "# Get the minimum and maximum distances\n",
    "min_distance = np.min(distances)  # Exclude zeros on the diagonal\n",
    "max_distance = np.max(distances)\n",
    "\n",
    "f_sim = [distance_classes.similarity_euclid(min_distance, max_distance)]\n",
    "ant_clust = AntClust(f_sim, labroche_rules())\n",
    "ant_clust.fit([[d] for d in data])\n",
    "clusters_found = ant_clust.get_clusters()"
   ]
  },
  {
   "cell_type": "markdown",
   "metadata": {},
   "source": [
    "# Metrics"
   ]
  },
  {
   "cell_type": "code",
   "execution_count": 12,
   "metadata": {},
   "outputs": [
    {
     "data": {
      "text/html": [
       "<div>\n",
       "<style scoped>\n",
       "    .dataframe tbody tr th:only-of-type {\n",
       "        vertical-align: middle;\n",
       "    }\n",
       "\n",
       "    .dataframe tbody tr th {\n",
       "        vertical-align: top;\n",
       "    }\n",
       "\n",
       "    .dataframe thead th {\n",
       "        text-align: right;\n",
       "    }\n",
       "</style>\n",
       "<table border=\"1\" class=\"dataframe\">\n",
       "  <thead>\n",
       "    <tr style=\"text-align: right;\">\n",
       "      <th></th>\n",
       "      <th>Homogeneity</th>\n",
       "      <th>Completeness</th>\n",
       "      <th>V-measure</th>\n",
       "      <th>Adjusted Rand-Index</th>\n",
       "    </tr>\n",
       "  </thead>\n",
       "  <tbody>\n",
       "    <tr>\n",
       "      <th>AntClust (euclidean distance)</th>\n",
       "      <td>0.402736</td>\n",
       "      <td>0.404555</td>\n",
       "      <td>0.403644</td>\n",
       "      <td>0.404824</td>\n",
       "    </tr>\n",
       "    <tr>\n",
       "      <th>K-means (k=2)</th>\n",
       "      <td>0.334199</td>\n",
       "      <td>0.587027</td>\n",
       "      <td>0.425919</td>\n",
       "      <td>0.369408</td>\n",
       "    </tr>\n",
       "    <tr>\n",
       "      <th>K-means (k=3)</th>\n",
       "      <td>0.428812</td>\n",
       "      <td>0.428701</td>\n",
       "      <td>0.428757</td>\n",
       "      <td>0.371114</td>\n",
       "    </tr>\n",
       "    <tr>\n",
       "      <th>K-means (k=4)</th>\n",
       "      <td>0.409747</td>\n",
       "      <td>0.336367</td>\n",
       "      <td>0.369449</td>\n",
       "      <td>0.288788</td>\n",
       "    </tr>\n",
       "    <tr>\n",
       "      <th>K-means (k=5)</th>\n",
       "      <td>0.495139</td>\n",
       "      <td>0.351292</td>\n",
       "      <td>0.410993</td>\n",
       "      <td>0.311588</td>\n",
       "    </tr>\n",
       "    <tr>\n",
       "      <th>K-means (k=6)</th>\n",
       "      <td>0.495760</td>\n",
       "      <td>0.334879</td>\n",
       "      <td>0.399739</td>\n",
       "      <td>0.290902</td>\n",
       "    </tr>\n",
       "    <tr>\n",
       "      <th>K-means (k=7)</th>\n",
       "      <td>0.502329</td>\n",
       "      <td>0.299775</td>\n",
       "      <td>0.375477</td>\n",
       "      <td>0.220960</td>\n",
       "    </tr>\n",
       "    <tr>\n",
       "      <th>K-means (k=8)</th>\n",
       "      <td>0.506082</td>\n",
       "      <td>0.275232</td>\n",
       "      <td>0.356553</td>\n",
       "      <td>0.197813</td>\n",
       "    </tr>\n",
       "  </tbody>\n",
       "</table>\n",
       "</div>"
      ],
      "text/plain": [
       "                               Homogeneity  Completeness  V-measure  \\\n",
       "AntClust (euclidean distance)     0.402736      0.404555   0.403644   \n",
       "K-means (k=2)                     0.334199      0.587027   0.425919   \n",
       "K-means (k=3)                     0.428812      0.428701   0.428757   \n",
       "K-means (k=4)                     0.409747      0.336367   0.369449   \n",
       "K-means (k=5)                     0.495139      0.351292   0.410993   \n",
       "K-means (k=6)                     0.495760      0.334879   0.399739   \n",
       "K-means (k=7)                     0.502329      0.299775   0.375477   \n",
       "K-means (k=8)                     0.506082      0.275232   0.356553   \n",
       "\n",
       "                               Adjusted Rand-Index  \n",
       "AntClust (euclidean distance)             0.404824  \n",
       "K-means (k=2)                             0.369408  \n",
       "K-means (k=3)                             0.371114  \n",
       "K-means (k=4)                             0.288788  \n",
       "K-means (k=5)                             0.311588  \n",
       "K-means (k=6)                             0.290902  \n",
       "K-means (k=7)                             0.220960  \n",
       "K-means (k=8)                             0.197813  "
      ]
     },
     "execution_count": 12,
     "metadata": {},
     "output_type": "execute_result"
    }
   ],
   "source": [
    "from sklearn import metrics\n",
    "import pandas as pd\n",
    "df = pd.DataFrame()\n",
    "\n",
    "\n",
    "homogeneity_score = metrics.homogeneity_score(wine.target, clusters_found)\n",
    "completeness_score = metrics.completeness_score(wine.target, clusters_found)\n",
    "v_score = metrics.v_measure_score(wine.target, clusters_found)\n",
    "ari_score = metrics.adjusted_rand_score(wine.target, clusters_found)\n",
    "data = {\n",
    "    'Homogeneity': homogeneity_score,\n",
    "    'Completeness': completeness_score,\n",
    "    'V-measure': v_score,\n",
    "    'Adjusted Rand-Index': ari_score,\n",
    "}\n",
    "\n",
    "# Creating a new DataFrame with the data for the new row\n",
    "new_row = pd.DataFrame(data, index=[\"AntClust (euclidean distance)\"])\n",
    "df = pd.concat([df, new_row])\n",
    "\n",
    "for k, k_label in cluster_results:\n",
    "    homogeneity_score = metrics.homogeneity_score(wine.target, k_label)\n",
    "    completeness_score = metrics.completeness_score(wine.target, k_label)\n",
    "    v_score = metrics.v_measure_score(wine.target, k_label)\n",
    "    ari_score = metrics.adjusted_rand_score(wine.target, k_label)\n",
    "    data = {\n",
    "        'Homogeneity': homogeneity_score,\n",
    "        'Completeness': completeness_score,\n",
    "        'V-measure': v_score,\n",
    "        'Adjusted Rand-Index': ari_score,\n",
    "    }\n",
    "    new_row = pd.DataFrame(data, index=[f\"K-means (k={k})\"])\n",
    "    df = pd.concat([df, new_row])\n",
    "\n",
    "df\n"
   ]
  },
  {
   "cell_type": "code",
   "execution_count": null,
   "metadata": {},
   "outputs": [],
   "source": []
  }
 ],
 "metadata": {
  "kernelspec": {
   "display_name": "base",
   "language": "python",
   "name": "python3"
  },
  "language_info": {
   "codemirror_mode": {
    "name": "ipython",
    "version": 3
   },
   "file_extension": ".py",
   "mimetype": "text/x-python",
   "name": "python",
   "nbconvert_exporter": "python",
   "pygments_lexer": "ipython3",
   "version": "3.9.13"
  }
 },
 "nbformat": 4,
 "nbformat_minor": 2
}
