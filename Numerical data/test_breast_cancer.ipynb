{
 "cells": [
  {
   "cell_type": "markdown",
   "metadata": {},
   "source": [
    "# Breast Cancer clustering\n",
    "Compare k-means with Antclust for comparing breast cancer data (breast_cancer dataset https://archive.ics.uci.edu/dataset/109/breast_cancer)"
   ]
  },
  {
   "cell_type": "code",
   "execution_count": 5,
   "metadata": {},
   "outputs": [
    {
     "name": "stdout",
     "output_type": "stream",
     "text": [
      "Number of features: 30\n",
      "Number of data points: 569\n",
      "Number of classes: 2\n"
     ]
    }
   ],
   "source": [
    "from sklearn.cluster import KMeans\n",
    "from sklearn import datasets\n",
    "import matplotlib.pyplot as plt\n",
    "import numpy as np\n",
    "from sklearn.datasets import load_breast_cancer\n",
    "\n",
    "\n",
    "# Load the breast_cancer dataset\n",
    "breast_cancer = load_breast_cancer()\n",
    "data = breast_cancer.data\n",
    "labels = breast_cancer.target\n",
    "num_cluster = len(np.unique(labels))\n",
    "print(f\"Number of features: {len(data[0])}\\nNumber of data points: {len(data)}\\nNumber of classes: {num_cluster}\")\n"
   ]
  },
  {
   "cell_type": "markdown",
   "metadata": {},
   "source": [
    "# K-Means"
   ]
  },
  {
   "cell_type": "code",
   "execution_count": 2,
   "metadata": {},
   "outputs": [],
   "source": [
    "#Finding the optimum number of clusters for k-means classification\n",
    "from sklearn.cluster import KMeans\n",
    "\n",
    "cluster_results = []\n",
    "for k in range(2,9):\n",
    "    # Initialize the KMeans model\n",
    "    kmeans = KMeans(n_clusters=k, random_state=42)\n",
    "    # Fit the model to the data\n",
    "    kmeans.fit(data)\n",
    "    cluster_results.append((k,kmeans.labels_))"
   ]
  },
  {
   "cell_type": "markdown",
   "metadata": {},
   "source": [
    "AntClust"
   ]
  },
  {
   "cell_type": "code",
   "execution_count": 3,
   "metadata": {},
   "outputs": [
    {
     "name": "stdout",
     "output_type": "stream",
     "text": [
      "AntClust: phase 1 of 3 -> meeting ants\n",
      "Meeting 42675 / 42675\n",
      "Meeting 34140 / 42675\n",
      "Meeting 25605 / 42675\n",
      "Meeting 17070 / 42675\n",
      "Meeting 8535 / 42675\n",
      "AntClust: phase 2 of 3 -> shrink nests\n",
      "AntClust: phase 3 of 3 -> reassign ants\n"
     ]
    }
   ],
   "source": [
    "# ----------------------\n",
    "#       imports\n",
    "# ----------------------\n",
    "# import opencv\n",
    "import cv2 as cv\n",
    "# matplotlib\n",
    "import matplotlib.pyplot as plt\n",
    "from sklearn.metrics import pairwise_distances\n",
    "\n",
    "# make AntClus dir known\n",
    "import sys\n",
    "sys.path.append(\"../AntClust\")\n",
    "# import AntClust\n",
    "from AntClust import AntClust\n",
    "from importlib import reload\n",
    "import distance_classes\n",
    "reload(distance_classes)\n",
    "# import the rule set\n",
    "from rules import labroche_rules\n",
    "\n",
    "# Compute pairwise Euclidean distances\n",
    "distances = pairwise_distances(data, metric='euclidean')\n",
    "\n",
    "# Get the minimum and maximum distances\n",
    "min_distance = np.min(distances)  # Exclude zeros on the diagonal\n",
    "max_distance = np.max(distances)\n",
    "\n",
    "f_sim = [distance_classes.similarity_euclid(min_distance, max_distance)]\n",
    "ant_clust = AntClust(f_sim, labroche_rules())\n",
    "ant_clust.fit([[d] for d in data])\n",
    "clusters_found = ant_clust.get_clusters()"
   ]
  },
  {
   "cell_type": "markdown",
   "metadata": {},
   "source": [
    "# Metrics"
   ]
  },
  {
   "cell_type": "code",
   "execution_count": 4,
   "metadata": {},
   "outputs": [
    {
     "data": {
      "text/html": [
       "<div>\n",
       "<style scoped>\n",
       "    .dataframe tbody tr th:only-of-type {\n",
       "        vertical-align: middle;\n",
       "    }\n",
       "\n",
       "    .dataframe tbody tr th {\n",
       "        vertical-align: top;\n",
       "    }\n",
       "\n",
       "    .dataframe thead th {\n",
       "        text-align: right;\n",
       "    }\n",
       "</style>\n",
       "<table border=\"1\" class=\"dataframe\">\n",
       "  <thead>\n",
       "    <tr style=\"text-align: right;\">\n",
       "      <th></th>\n",
       "      <th>Homogeneity</th>\n",
       "      <th>Completeness</th>\n",
       "      <th>V-measure</th>\n",
       "      <th>Adjusted Rand-Index</th>\n",
       "    </tr>\n",
       "  </thead>\n",
       "  <tbody>\n",
       "    <tr>\n",
       "      <th>AntClust (euclidean distance)</th>\n",
       "      <td>0.578839</td>\n",
       "      <td>0.273374</td>\n",
       "      <td>0.371361</td>\n",
       "      <td>0.503367</td>\n",
       "    </tr>\n",
       "    <tr>\n",
       "      <th>K-means (k=2)</th>\n",
       "      <td>0.422291</td>\n",
       "      <td>0.516809</td>\n",
       "      <td>0.464793</td>\n",
       "      <td>0.491425</td>\n",
       "    </tr>\n",
       "    <tr>\n",
       "      <th>K-means (k=3)</th>\n",
       "      <td>0.447857</td>\n",
       "      <td>0.451041</td>\n",
       "      <td>0.449444</td>\n",
       "      <td>0.501563</td>\n",
       "    </tr>\n",
       "    <tr>\n",
       "      <th>K-means (k=4)</th>\n",
       "      <td>0.575050</td>\n",
       "      <td>0.333277</td>\n",
       "      <td>0.421986</td>\n",
       "      <td>0.412743</td>\n",
       "    </tr>\n",
       "    <tr>\n",
       "      <th>K-means (k=5)</th>\n",
       "      <td>0.601928</td>\n",
       "      <td>0.297758</td>\n",
       "      <td>0.398425</td>\n",
       "      <td>0.341810</td>\n",
       "    </tr>\n",
       "    <tr>\n",
       "      <th>K-means (k=6)</th>\n",
       "      <td>0.604317</td>\n",
       "      <td>0.274087</td>\n",
       "      <td>0.377129</td>\n",
       "      <td>0.313490</td>\n",
       "    </tr>\n",
       "    <tr>\n",
       "      <th>K-means (k=7)</th>\n",
       "      <td>0.629624</td>\n",
       "      <td>0.245605</td>\n",
       "      <td>0.353368</td>\n",
       "      <td>0.233988</td>\n",
       "    </tr>\n",
       "    <tr>\n",
       "      <th>K-means (k=8)</th>\n",
       "      <td>0.635252</td>\n",
       "      <td>0.248015</td>\n",
       "      <td>0.356748</td>\n",
       "      <td>0.237783</td>\n",
       "    </tr>\n",
       "  </tbody>\n",
       "</table>\n",
       "</div>"
      ],
      "text/plain": [
       "                               Homogeneity  Completeness  V-measure  \\\n",
       "AntClust (euclidean distance)     0.578839      0.273374   0.371361   \n",
       "K-means (k=2)                     0.422291      0.516809   0.464793   \n",
       "K-means (k=3)                     0.447857      0.451041   0.449444   \n",
       "K-means (k=4)                     0.575050      0.333277   0.421986   \n",
       "K-means (k=5)                     0.601928      0.297758   0.398425   \n",
       "K-means (k=6)                     0.604317      0.274087   0.377129   \n",
       "K-means (k=7)                     0.629624      0.245605   0.353368   \n",
       "K-means (k=8)                     0.635252      0.248015   0.356748   \n",
       "\n",
       "                               Adjusted Rand-Index  \n",
       "AntClust (euclidean distance)             0.503367  \n",
       "K-means (k=2)                             0.491425  \n",
       "K-means (k=3)                             0.501563  \n",
       "K-means (k=4)                             0.412743  \n",
       "K-means (k=5)                             0.341810  \n",
       "K-means (k=6)                             0.313490  \n",
       "K-means (k=7)                             0.233988  \n",
       "K-means (k=8)                             0.237783  "
      ]
     },
     "execution_count": 4,
     "metadata": {},
     "output_type": "execute_result"
    }
   ],
   "source": [
    "from sklearn import metrics\n",
    "import pandas as pd\n",
    "df = pd.DataFrame()\n",
    "\n",
    "\n",
    "homogeneity_score = metrics.homogeneity_score(breast_cancer.target, clusters_found)\n",
    "completeness_score = metrics.completeness_score(breast_cancer.target, clusters_found)\n",
    "v_score = metrics.v_measure_score(breast_cancer.target, clusters_found)\n",
    "ari_score = metrics.adjusted_rand_score(breast_cancer.target, clusters_found)\n",
    "data = {\n",
    "    'Homogeneity': homogeneity_score,\n",
    "    'Completeness': completeness_score,\n",
    "    'V-measure': v_score,\n",
    "    'Adjusted Rand-Index': ari_score,\n",
    "}\n",
    "\n",
    "# Creating a new DataFrame with the data for the new row\n",
    "new_row = pd.DataFrame(data, index=[\"AntClust (euclidean distance)\"])\n",
    "df = pd.concat([df, new_row])\n",
    "\n",
    "for k, k_label in cluster_results:\n",
    "    homogeneity_score = metrics.homogeneity_score(breast_cancer.target, k_label)\n",
    "    completeness_score = metrics.completeness_score(breast_cancer.target, k_label)\n",
    "    v_score = metrics.v_measure_score(breast_cancer.target, k_label)\n",
    "    ari_score = metrics.adjusted_rand_score(breast_cancer.target, k_label)\n",
    "    data = {\n",
    "        'Homogeneity': homogeneity_score,\n",
    "        'Completeness': completeness_score,\n",
    "        'V-measure': v_score,\n",
    "        'Adjusted Rand-Index': ari_score,\n",
    "    }\n",
    "    new_row = pd.DataFrame(data, index=[f\"K-means (k={k})\"])\n",
    "    df = pd.concat([df, new_row])\n",
    "\n",
    "df\n"
   ]
  },
  {
   "cell_type": "code",
   "execution_count": null,
   "metadata": {},
   "outputs": [],
   "source": []
  }
 ],
 "metadata": {
  "kernelspec": {
   "display_name": "base",
   "language": "python",
   "name": "python3"
  },
  "language_info": {
   "codemirror_mode": {
    "name": "ipython",
    "version": 3
   },
   "file_extension": ".py",
   "mimetype": "text/x-python",
   "name": "python",
   "nbconvert_exporter": "python",
   "pygments_lexer": "ipython3",
   "version": "3.9.13"
  }
 },
 "nbformat": 4,
 "nbformat_minor": 2
}
