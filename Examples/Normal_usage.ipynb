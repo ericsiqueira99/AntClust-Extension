{
 "cells": [
  {
   "cell_type": "code",
   "execution_count": 1,
   "id": "f990eeb0-5a8f-4737-aba4-58dc6b370ec3",
   "metadata": {
    "tags": []
   },
   "outputs": [
    {
     "name": "stdout",
     "output_type": "stream",
     "text": [
      "AntClust: phase 1 of 3 -> meeting ants\n",
      "left meetings  600 / 600\n",
      "left meetings  540 / 600\n",
      "left meetings  480 / 600\n",
      "left meetings  420 / 600\n",
      "left meetings  360 / 600\n",
      "left meetings  300 / 600\n",
      "left meetings  240 / 600\n",
      "left meetings  180 / 600\n",
      "left meetings  120 / 600\n",
      "left meetings  60 / 600\n",
      "AntClust: phase 2 of 3 -> shrink nests\n",
      "AntClust: phase 3 of 3 -> reassign ants\n",
      "\n",
      " clusters_found [0 0 0 0 1 1 1 1]\n"
     ]
    }
   ],
   "source": [
    "# ----------------------\n",
    "#       imports\n",
    "# ----------------------\n",
    "# make AntClus dir known\n",
    "import sys\n",
    "\n",
    "sys.path.append(\"../AntClust\")\n",
    "# import AntClust\n",
    "from AntClust import AntClust\n",
    "\n",
    "# import the self defined similarity functions\n",
    "from distance_classes import similarity_1d, similarity_euclid2d\n",
    "\n",
    "# import the rule set\n",
    "from rules import labroche_rules\n",
    "\n",
    "# ----------------------\n",
    "#       data\n",
    "# ----------------------\n",
    "# Define a very simple data set\n",
    "# This set contains 8 data tuples, each\n",
    "# having 2 features, where the first is\n",
    "# a numeric feature and the second one a\n",
    "# vector in the 2Dimensional space.\n",
    "# Therefore every feature needs\n",
    "# a different similarity function.\n",
    "data = [\n",
    "    [0.1, [1, 1]],\n",
    "    [0.2, [1, 2]],\n",
    "    [0.11, [2, 1]],\n",
    "    [0.13, [2, 2]],\n",
    "    [0.9, [8, 9]],\n",
    "    [0.98, [9, 9]],\n",
    "    [0.87, [9, 10]],\n",
    "    [0.7, [10, 9]],\n",
    "]\n",
    "\n",
    "\n",
    "# ----------------------\n",
    "#       AntClust\n",
    "# ----------------------\n",
    "# define a different similarity function per feature\n",
    "f_sim = [similarity_1d(0, 1), similarity_euclid2d(0, 14)]\n",
    "\n",
    "# rules\n",
    "rules = labroche_rules()\n",
    "\n",
    "# AntClust\n",
    "ant_clust = AntClust(f_sim, rules)\n",
    "\n",
    "# find clusters\n",
    "ant_clust.fit(data)\n",
    "\n",
    "# get the clustering result\n",
    "clusters_found = ant_clust.labels_\n",
    "clusters_found = ant_clust.get_clusters()\n",
    "\n",
    "print(f'\\n clusters_found {clusters_found}')"
   ]
  },
  {
   "cell_type": "code",
   "execution_count": null,
   "id": "9a5ba4e4",
   "metadata": {},
   "outputs": [],
   "source": []
  }
 ],
 "metadata": {
  "kernelspec": {
   "display_name": "Python 3",
   "language": "python",
   "name": "python3"
  },
  "language_info": {
   "codemirror_mode": {
    "name": "ipython",
    "version": 3
   },
   "file_extension": ".py",
   "mimetype": "text/x-python",
   "name": "python",
   "nbconvert_exporter": "python",
   "pygments_lexer": "ipython3",
   "version": "3.8.5"
  }
 },
 "nbformat": 4,
 "nbformat_minor": 5
}
