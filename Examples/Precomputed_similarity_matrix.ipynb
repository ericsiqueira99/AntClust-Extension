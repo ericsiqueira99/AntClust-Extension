{
 "cells": [
  {
   "cell_type": "markdown",
   "id": "90639018-c6e3-4d40-a38c-1de745f9d9b7",
   "metadata": {},
   "source": [
    "# Precomputed Distance Matrix\n",
    "\n",
    "This example shows how to use a precomputed distance matrix.\n",
    "It will use scikit-learn to compute the matrix.\n",
    "\n",
    "Further information on the sklearn distance functions can be found here\n",
    "\n",
    "https://scikit-learn.org/stable/modules/metrics.html#metrics\n",
    "\n",
    "https://scikit-learn.org/stable/modules/classes.html#pairwise-metrics\n"
   ]
  },
  {
   "cell_type": "code",
   "execution_count": 2,
   "id": "f990eeb0-5a8f-4737-aba4-58dc6b370ec3",
   "metadata": {
    "tags": []
   },
   "outputs": [
    {
     "name": "stdout",
     "output_type": "stream",
     "text": [
      "AntClust: phase 1 of 3 -> meeting ants\n",
      "left meetings  450 / 450\n",
      "left meetings  405 / 450\n",
      "left meetings  360 / 450\n",
      "left meetings  315 / 450\n",
      "left meetings  270 / 450\n",
      "left meetings  225 / 450\n",
      "left meetings  180 / 450\n",
      "left meetings  135 / 450\n",
      "left meetings  90 / 450\n",
      "left meetings  45 / 450\n",
      "AntClust: phase 2 of 3 -> shrink nests\n",
      "AntClust: phase 3 of 3 -> reassign ants\n",
      "\n",
      " clusters_found [0 0 0 1 1 1]\n"
     ]
    }
   ],
   "source": [
    "# ----------------------\n",
    "#       imports\n",
    "# ----------------------\n",
    "# import sklearn distance function\n",
    "from sklearn.metrics.pairwise import manhattan_distances\n",
    "\n",
    "# make AntClus dir known\n",
    "import sys\n",
    "sys.path.append(\"../AntClust\")\n",
    "# import AntClust\n",
    "from AntClust import AntClust\n",
    "# import the precomputed distance matrix function for AntClust\n",
    "from distance_classes import precomputed_similarity_matrix\n",
    "# import the rule set\n",
    "from rules import labroche_rules\n",
    "\n",
    "# ----------------------\n",
    "#       data\n",
    "# ----------------------\n",
    "# Define a very simple data set\n",
    "data = [[1, 1], [1, 2], [2, 1], [9, 9], [9, 10], [7, 9]]\n",
    "\n",
    "# compute the distance matrix\n",
    "distance_matrix = manhattan_distances(data)\n",
    "\n",
    "# AntClust needs every data tuple as an array.\n",
    "# e.g. [1,2,3] needs to be [[1],[2],[3]]\n",
    "distance_matrix = [[i] for i in distance_matrix]\n",
    "\n",
    "# ----------------------\n",
    "#       AntClust\n",
    "# ----------------------\n",
    "# tell AntClust to treat the data set as precomputed similarity matrix\n",
    "ant_clust = AntClust([precomputed_similarity_matrix()], labroche_rules())\n",
    "\n",
    "# find clusters by using the distance matrix of the data\n",
    "ant_clust.fit(distance_matrix)\n",
    "\n",
    "# get the clustering result\n",
    "clusters_found = ant_clust.labels_\n",
    "clusters_found = ant_clust.get_clusters()\n",
    "\n",
    "print(f'\\n clusters_found {clusters_found}')"
   ]
  }
 ],
 "metadata": {
  "kernelspec": {
   "display_name": "venv_evolution",
   "language": "python",
   "name": "venv_evolution"
  },
  "language_info": {
   "codemirror_mode": {
    "name": "ipython",
    "version": 3
   },
   "file_extension": ".py",
   "mimetype": "text/x-python",
   "name": "python",
   "nbconvert_exporter": "python",
   "pygments_lexer": "ipython3",
   "version": "3.11.5"
  }
 },
 "nbformat": 4,
 "nbformat_minor": 5
}
