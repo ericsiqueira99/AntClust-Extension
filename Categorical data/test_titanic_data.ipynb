{
 "cells": [
  {
   "cell_type": "markdown",
   "metadata": {},
   "source": [
    "# Titanic dataset\n",
    "Source: https://github.com/mwaskom/seaborn-data/blob/master/titanic.csv\n",
    "\n",
    "Test AntClust against K-means for a categorical dataset."
   ]
  },
  {
   "cell_type": "code",
   "execution_count": 7,
   "metadata": {},
   "outputs": [
    {
     "name": "stdout",
     "output_type": "stream",
     "text": [
      "891\n",
      "891\n"
     ]
    }
   ],
   "source": [
    "from sklearn.cluster import KMeans\n",
    "import pandas as pd\n",
    "import seaborn as sns\n",
    "from sklearn.preprocessing import LabelEncoder\n",
    "\n",
    "# Load Titanic dataset\n",
    "titanic_data = sns.load_dataset('titanic')[['sex', 'alone', 'class', 'pclass', 'survived']]\n",
    "\n",
    "label_encoder = LabelEncoder()\n",
    "titanic_encoded = titanic_data.iloc[:,:-2].apply(label_encoder.fit_transform)\n",
    "titanic_label = titanic_data.iloc[:, 0]\n",
    "binary_labels = label_encoder.fit_transform(titanic_label)\n",
    "print(len(binary_labels))\n",
    "print(len(titanic_encoded))"
   ]
  },
  {
   "cell_type": "markdown",
   "metadata": {},
   "source": [
    "K-Means"
   ]
  },
  {
   "cell_type": "code",
   "execution_count": 8,
   "metadata": {},
   "outputs": [],
   "source": [
    "# Apply KMeans clustering\n",
    "cluster_results = []\n",
    "for k in range(2,5):\n",
    "    # Initialize the KMeans model\n",
    "    kmeans = KMeans(n_clusters=k, random_state=42)\n",
    "    # Fit the model to the data\n",
    "    kmeans.fit(titanic_encoded)\n",
    "    cluster_results.append((k,kmeans.labels_))"
   ]
  },
  {
   "cell_type": "markdown",
   "metadata": {},
   "source": [
    "# AntClust with Jaccard score as similarity"
   ]
  },
  {
   "cell_type": "code",
   "execution_count": 9,
   "metadata": {},
   "outputs": [
    {
     "name": "stdout",
     "output_type": "stream",
     "text": [
      "AntClust: phase 1 of 3 -> meeting ants\n",
      "Meeting 66825 / 66825\n",
      "Meeting 53460 / 66825\n",
      "Meeting 40095 / 66825\n",
      "Meeting 26730 / 66825\n",
      "Meeting 13365 / 66825\n",
      "AntClust: phase 2 of 3 -> shrink nests\n",
      "AntClust: phase 3 of 3 -> reassign ants\n"
     ]
    }
   ],
   "source": [
    "# ----------------------\n",
    "#       imports\n",
    "# ----------------------\n",
    "# import opencv\n",
    "import cv2 as cv\n",
    "# matplotlib\n",
    "import matplotlib.pyplot as plt\n",
    "from sklearn.metrics import pairwise_distances\n",
    "\n",
    "# make AntClus dir known\n",
    "import sys\n",
    "sys.path.append(\"../AntClust\")\n",
    "# import AntClust\n",
    "from AntClust import AntClust\n",
    "from importlib import reload\n",
    "import distance_classes\n",
    "reload(distance_classes)\n",
    "# import the rule set\n",
    "from rules import labroche_rules\n",
    "\n",
    "f_sim = [distance_classes.similarity_categorical()]\n",
    "ant_clust = AntClust(f_sim, labroche_rules())\n",
    "ant = [[titanic_encoded.iloc[i]] for i in range(titanic_encoded.shape[0])]\n",
    "ant_clust.fit(ant)\n",
    "clusters_found = ant_clust.get_clusters()"
   ]
  },
  {
   "cell_type": "markdown",
   "metadata": {},
   "source": [
    "# Metrics"
   ]
  },
  {
   "cell_type": "code",
   "execution_count": 10,
   "metadata": {},
   "outputs": [
    {
     "data": {
      "text/html": [
       "<div>\n",
       "<style scoped>\n",
       "    .dataframe tbody tr th:only-of-type {\n",
       "        vertical-align: middle;\n",
       "    }\n",
       "\n",
       "    .dataframe tbody tr th {\n",
       "        vertical-align: top;\n",
       "    }\n",
       "\n",
       "    .dataframe thead th {\n",
       "        text-align: right;\n",
       "    }\n",
       "</style>\n",
       "<table border=\"1\" class=\"dataframe\">\n",
       "  <thead>\n",
       "    <tr style=\"text-align: right;\">\n",
       "      <th></th>\n",
       "      <th>Homogeneity</th>\n",
       "      <th>Completeness</th>\n",
       "      <th>V-measure</th>\n",
       "      <th>Adjusted Rand-Index</th>\n",
       "    </tr>\n",
       "  </thead>\n",
       "  <tbody>\n",
       "    <tr>\n",
       "      <th>AntClust (Jaccard similarity)</th>\n",
       "      <td>1.000000</td>\n",
       "      <td>0.234375</td>\n",
       "      <td>0.379747</td>\n",
       "      <td>0.199048</td>\n",
       "    </tr>\n",
       "    <tr>\n",
       "      <th>K-means (k=2)</th>\n",
       "      <td>0.014472</td>\n",
       "      <td>0.013651</td>\n",
       "      <td>0.014049</td>\n",
       "      <td>0.023880</td>\n",
       "    </tr>\n",
       "    <tr>\n",
       "      <th>K-means (k=3)</th>\n",
       "      <td>0.311123</td>\n",
       "      <td>0.185400</td>\n",
       "      <td>0.232344</td>\n",
       "      <td>0.165621</td>\n",
       "    </tr>\n",
       "    <tr>\n",
       "      <th>K-means (k=4)</th>\n",
       "      <td>0.166684</td>\n",
       "      <td>0.079905</td>\n",
       "      <td>0.108025</td>\n",
       "      <td>0.109695</td>\n",
       "    </tr>\n",
       "  </tbody>\n",
       "</table>\n",
       "</div>"
      ],
      "text/plain": [
       "                               Homogeneity  Completeness  V-measure  \\\n",
       "AntClust (Jaccard similarity)     1.000000      0.234375   0.379747   \n",
       "K-means (k=2)                     0.014472      0.013651   0.014049   \n",
       "K-means (k=3)                     0.311123      0.185400   0.232344   \n",
       "K-means (k=4)                     0.166684      0.079905   0.108025   \n",
       "\n",
       "                               Adjusted Rand-Index  \n",
       "AntClust (Jaccard similarity)             0.199048  \n",
       "K-means (k=2)                             0.023880  \n",
       "K-means (k=3)                             0.165621  \n",
       "K-means (k=4)                             0.109695  "
      ]
     },
     "execution_count": 10,
     "metadata": {},
     "output_type": "execute_result"
    }
   ],
   "source": [
    "from sklearn import metrics\n",
    "import pandas as pd\n",
    "df = pd.DataFrame()\n",
    "\n",
    "\n",
    "homogeneity_score = metrics.homogeneity_score(binary_labels, clusters_found)\n",
    "completeness_score = metrics.completeness_score(binary_labels, clusters_found)\n",
    "v_score = metrics.v_measure_score(binary_labels, clusters_found)\n",
    "ari_score = metrics.adjusted_rand_score(binary_labels, clusters_found)\n",
    "pd_data = {\n",
    "    'Homogeneity': homogeneity_score,\n",
    "    'Completeness': completeness_score,\n",
    "    'V-measure': v_score,\n",
    "    'Adjusted Rand-Index': ari_score,\n",
    "}\n",
    "\n",
    "# Creating a new DataFrame with the data for the new row\n",
    "new_row = pd.DataFrame(pd_data, index=[\"AntClust (Jaccard similarity)\"])\n",
    "df = pd.concat([df, new_row])\n",
    "\n",
    "for k, k_label in cluster_results:\n",
    "    homogeneity_score = metrics.homogeneity_score(binary_labels, k_label)\n",
    "    completeness_score = metrics.completeness_score(binary_labels, k_label)\n",
    "    v_score = metrics.v_measure_score(binary_labels, k_label)\n",
    "    ari_score = metrics.adjusted_rand_score(binary_labels, k_label)\n",
    "    pd_data = {\n",
    "        'Homogeneity': homogeneity_score,\n",
    "        'Completeness': completeness_score,\n",
    "        'V-measure': v_score,\n",
    "        'Adjusted Rand-Index': ari_score,\n",
    "    }\n",
    "    new_row = pd.DataFrame(pd_data, index=[f\"K-means (k={k})\"])\n",
    "    df = pd.concat([df, new_row])\n",
    "\n",
    "df\n"
   ]
  }
 ],
 "metadata": {
  "kernelspec": {
   "display_name": "base",
   "language": "python",
   "name": "python3"
  },
  "language_info": {
   "codemirror_mode": {
    "name": "ipython",
    "version": 3
   },
   "file_extension": ".py",
   "mimetype": "text/x-python",
   "name": "python",
   "nbconvert_exporter": "python",
   "pygments_lexer": "ipython3",
   "version": "3.9.13"
  }
 },
 "nbformat": 4,
 "nbformat_minor": 2
}
