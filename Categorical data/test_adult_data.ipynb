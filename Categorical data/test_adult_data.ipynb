{
 "cells": [
  {
   "cell_type": "markdown",
   "metadata": {},
   "source": [
    "# Adult Income dataset\n",
    "Source: https://archive.ics.uci.edu/ml/machine-learning-databases/adult/adult.data\n",
    "\n",
    "Test AntClust against K-means for a categorical dataset."
   ]
  },
  {
   "cell_type": "code",
   "execution_count": 21,
   "metadata": {},
   "outputs": [
    {
     "data": {
      "text/plain": [
       "0      <=50K\n",
       "1      <=50K\n",
       "2      <=50K\n",
       "3      <=50K\n",
       "4      <=50K\n",
       "       ...  \n",
       "995     >50K\n",
       "996    <=50K\n",
       "997     >50K\n",
       "998    <=50K\n",
       "999     >50K\n",
       "Name: income, Length: 1000, dtype: object"
      ]
     },
     "execution_count": 21,
     "metadata": {},
     "output_type": "execute_result"
    }
   ],
   "source": [
    "from sklearn.cluster import KMeans\n",
    "import pandas as pd\n",
    "from sklearn.metrics import jaccard_score\n",
    "from sklearn.preprocessing import LabelEncoder\n",
    "\n",
    "# Define the URL for the Adult Income dataset\n",
    "url = \"https://archive.ics.uci.edu/ml/machine-learning-databases/adult/adult.data\"\n",
    "\n",
    "column_names = [\n",
    "    'age', 'workclass', 'fnlwgt', 'education', 'education-num', 'marital-status',\n",
    "    'occupation', 'relationship', 'race', 'sex', 'capital-gain', 'capital-loss',\n",
    "    'hours-per-week', 'native-country', 'income'\n",
    "]\n",
    "\n",
    "# Load the dataset into a Pandas DataFrame\n",
    "adult_data = pd.read_csv(url, header=None, names=column_names, skipinitialspace=True)\n",
    "\n",
    "\n",
    "# Define the column names based on the dataset documentation\n",
    "selected_cols = [\n",
    "    'age', 'workclass', 'education-num', 'marital-status',\n",
    "    'occupation', 'relationship', 'race', 'sex',\n",
    "    'hours-per-week', 'native-country', 'income'\n",
    "]\n",
    "\n",
    "# Load the dataset into a Pandas DataFrame\n",
    "adult_data = adult_data[selected_cols]\n",
    "\n",
    "label_encoder = LabelEncoder()\n",
    "subset = 1000\n",
    "adult_encoded = adult_data.iloc[:subset,:-2].apply(label_encoder.fit_transform)\n",
    "adult_label = adult_data.iloc[:subset, -1]\n",
    "binary_labels = label_encoder.fit_transform(adult_label)"
   ]
  },
  {
   "cell_type": "markdown",
   "metadata": {},
   "source": [
    "K-Means"
   ]
  },
  {
   "cell_type": "code",
   "execution_count": 22,
   "metadata": {},
   "outputs": [],
   "source": [
    "# Apply KMeans clustering\n",
    "cluster_results = []\n",
    "for k in range(2,5):\n",
    "    # Initialize the KMeans model\n",
    "    kmeans = KMeans(n_clusters=k, random_state=42)\n",
    "    # Fit the model to the data\n",
    "    kmeans.fit(adult_encoded)\n",
    "    cluster_results.append((k,kmeans.labels_))"
   ]
  },
  {
   "cell_type": "markdown",
   "metadata": {},
   "source": [
    "# AntClust with Jaccard score as similarity"
   ]
  },
  {
   "cell_type": "code",
   "execution_count": 23,
   "metadata": {},
   "outputs": [
    {
     "name": "stdout",
     "output_type": "stream",
     "text": [
      "AntClust: phase 1 of 3 -> meeting ants\n",
      "Meeting 75000 / 75000\n",
      "Meeting 67500 / 75000\n",
      "Meeting 60000 / 75000\n",
      "Meeting 52500 / 75000\n",
      "Meeting 45000 / 75000\n",
      "Meeting 37500 / 75000\n",
      "Meeting 30000 / 75000\n",
      "Meeting 22500 / 75000\n",
      "Meeting 15000 / 75000\n",
      "Meeting 7500 / 75000\n",
      "AntClust: phase 2 of 3 -> shrink nests\n",
      "AntClust: phase 3 of 3 -> reassign ants\n"
     ]
    }
   ],
   "source": [
    "# ----------------------\n",
    "#       imports\n",
    "# ----------------------\n",
    "# import opencv\n",
    "import cv2 as cv\n",
    "# matplotlib\n",
    "import matplotlib.pyplot as plt\n",
    "from sklearn.metrics import pairwise_distances\n",
    "\n",
    "# make AntClus dir known\n",
    "import sys\n",
    "sys.path.append(\"../AntClust\")\n",
    "# import AntClust\n",
    "from AntClust import AntClust\n",
    "from importlib import reload\n",
    "import distance_classes\n",
    "reload(distance_classes)\n",
    "# import the rule set\n",
    "from rules import labroche_rules\n",
    "\n",
    "f_sim = [distance_classes.similarity_categorical()]\n",
    "ant_clust = AntClust(f_sim, labroche_rules())\n",
    "ant = [[adult_encoded.iloc[i]] for i in range(adult_encoded.shape[0])]\n",
    "ant_clust.fit(ant)\n",
    "clusters_found = ant_clust.get_clusters()"
   ]
  },
  {
   "cell_type": "markdown",
   "metadata": {},
   "source": [
    "# Metrics"
   ]
  },
  {
   "cell_type": "code",
   "execution_count": 24,
   "metadata": {},
   "outputs": [
    {
     "data": {
      "text/html": [
       "<div>\n",
       "<style scoped>\n",
       "    .dataframe tbody tr th:only-of-type {\n",
       "        vertical-align: middle;\n",
       "    }\n",
       "\n",
       "    .dataframe tbody tr th {\n",
       "        vertical-align: top;\n",
       "    }\n",
       "\n",
       "    .dataframe thead th {\n",
       "        text-align: right;\n",
       "    }\n",
       "</style>\n",
       "<table border=\"1\" class=\"dataframe\">\n",
       "  <thead>\n",
       "    <tr style=\"text-align: right;\">\n",
       "      <th></th>\n",
       "      <th>Homogeneity</th>\n",
       "      <th>Completeness</th>\n",
       "      <th>V-measure</th>\n",
       "      <th>Adjusted Rand-Index</th>\n",
       "    </tr>\n",
       "  </thead>\n",
       "  <tbody>\n",
       "    <tr>\n",
       "      <th>AntClust (Jaccard similarity)</th>\n",
       "      <td>0.174465</td>\n",
       "      <td>0.039372</td>\n",
       "      <td>0.064245</td>\n",
       "      <td>0.033928</td>\n",
       "    </tr>\n",
       "    <tr>\n",
       "      <th>K-means (k=2)</th>\n",
       "      <td>0.062004</td>\n",
       "      <td>0.048914</td>\n",
       "      <td>0.054687</td>\n",
       "      <td>0.073171</td>\n",
       "    </tr>\n",
       "    <tr>\n",
       "      <th>K-means (k=3)</th>\n",
       "      <td>0.103540</td>\n",
       "      <td>0.053535</td>\n",
       "      <td>0.070578</td>\n",
       "      <td>0.035250</td>\n",
       "    </tr>\n",
       "    <tr>\n",
       "      <th>K-means (k=4)</th>\n",
       "      <td>0.101109</td>\n",
       "      <td>0.043136</td>\n",
       "      <td>0.060473</td>\n",
       "      <td>0.024432</td>\n",
       "    </tr>\n",
       "  </tbody>\n",
       "</table>\n",
       "</div>"
      ],
      "text/plain": [
       "                               Homogeneity  Completeness  V-measure  \\\n",
       "AntClust (Jaccard similarity)     0.174465      0.039372   0.064245   \n",
       "K-means (k=2)                     0.062004      0.048914   0.054687   \n",
       "K-means (k=3)                     0.103540      0.053535   0.070578   \n",
       "K-means (k=4)                     0.101109      0.043136   0.060473   \n",
       "\n",
       "                               Adjusted Rand-Index  \n",
       "AntClust (Jaccard similarity)             0.033928  \n",
       "K-means (k=2)                             0.073171  \n",
       "K-means (k=3)                             0.035250  \n",
       "K-means (k=4)                             0.024432  "
      ]
     },
     "execution_count": 24,
     "metadata": {},
     "output_type": "execute_result"
    }
   ],
   "source": [
    "from sklearn import metrics\n",
    "import pandas as pd\n",
    "df = pd.DataFrame()\n",
    "\n",
    "\n",
    "homogeneity_score = metrics.homogeneity_score(binary_labels, clusters_found)\n",
    "completeness_score = metrics.completeness_score(binary_labels, clusters_found)\n",
    "v_score = metrics.v_measure_score(binary_labels, clusters_found)\n",
    "ari_score = metrics.adjusted_rand_score(binary_labels, clusters_found)\n",
    "pd_data = {\n",
    "    'Homogeneity': homogeneity_score,\n",
    "    'Completeness': completeness_score,\n",
    "    'V-measure': v_score,\n",
    "    'Adjusted Rand-Index': ari_score,\n",
    "}\n",
    "\n",
    "# Creating a new DataFrame with the data for the new row\n",
    "new_row = pd.DataFrame(pd_data, index=[\"AntClust (Jaccard similarity)\"])\n",
    "df = pd.concat([df, new_row])\n",
    "\n",
    "for k, k_label in cluster_results:\n",
    "    homogeneity_score = metrics.homogeneity_score(binary_labels, k_label)\n",
    "    completeness_score = metrics.completeness_score(binary_labels, k_label)\n",
    "    v_score = metrics.v_measure_score(binary_labels, k_label)\n",
    "    ari_score = metrics.adjusted_rand_score(binary_labels, k_label)\n",
    "    pd_data = {\n",
    "        'Homogeneity': homogeneity_score,\n",
    "        'Completeness': completeness_score,\n",
    "        'V-measure': v_score,\n",
    "        'Adjusted Rand-Index': ari_score,\n",
    "    }\n",
    "    new_row = pd.DataFrame(pd_data, index=[f\"K-means (k={k})\"])\n",
    "    df = pd.concat([df, new_row])\n",
    "\n",
    "df\n"
   ]
  }
 ],
 "metadata": {
  "kernelspec": {
   "display_name": "base",
   "language": "python",
   "name": "python3"
  },
  "language_info": {
   "codemirror_mode": {
    "name": "ipython",
    "version": 3
   },
   "file_extension": ".py",
   "mimetype": "text/x-python",
   "name": "python",
   "nbconvert_exporter": "python",
   "pygments_lexer": "ipython3",
   "version": "3.9.13"
  }
 },
 "nbformat": 4,
 "nbformat_minor": 2
}
