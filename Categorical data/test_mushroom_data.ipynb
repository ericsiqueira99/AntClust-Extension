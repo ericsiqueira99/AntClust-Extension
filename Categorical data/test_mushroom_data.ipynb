{
 "cells": [
  {
   "cell_type": "markdown",
   "metadata": {},
   "source": [
    "# Mushroom dataset\n",
    "Source: https://archive.ics.uci.edu/ml/machine-learning-databases/mushroom/agaricus-lepiota.data\n",
    "\n",
    "Test AntClust against K-means for a categorical dataset."
   ]
  },
  {
   "cell_type": "code",
   "execution_count": 71,
   "metadata": {},
   "outputs": [
    {
     "name": "stdout",
     "output_type": "stream",
     "text": [
      "1000\n"
     ]
    }
   ],
   "source": [
    "from sklearn.cluster import KMeans\n",
    "import pandas as pd\n",
    "from sklearn.metrics import jaccard_score\n",
    "from sklearn.preprocessing import LabelEncoder\n",
    "\n",
    "# Load Mushroom dataset\n",
    "mushroom_url = \"https://archive.ics.uci.edu/ml/machine-learning-databases/mushroom/agaricus-lepiota.data\"\n",
    "mushroom_data = pd.read_csv(mushroom_url, header=None)\n",
    "\n",
    "label_encoder = LabelEncoder()\n",
    "subset = 1000\n",
    "mushroom_encoded = mushroom_data.iloc[:subset,1:].apply(label_encoder.fit_transform)\n",
    "mushroom_label = mushroom_data.iloc[:subset, 0]\n",
    "binary_labels = label_encoder.fit_transform(mushroom_label)\n",
    "print(len(mushroom_encoded))"
   ]
  },
  {
   "cell_type": "markdown",
   "metadata": {},
   "source": [
    "K-Means"
   ]
  },
  {
   "cell_type": "code",
   "execution_count": 72,
   "metadata": {},
   "outputs": [],
   "source": [
    "# Apply KMeans clustering\n",
    "cluster_results = []\n",
    "for k in range(2,5):\n",
    "    # Initialize the KMeans model\n",
    "    kmeans = KMeans(n_clusters=k, random_state=42)\n",
    "    # Fit the model to the data\n",
    "    kmeans.fit(mushroom_encoded)\n",
    "    cluster_results.append((k,kmeans.labels_))"
   ]
  },
  {
   "cell_type": "markdown",
   "metadata": {},
   "source": [
    "# AntClust with Jaccard score as similarity"
   ]
  },
  {
   "cell_type": "code",
   "execution_count": 73,
   "metadata": {},
   "outputs": [
    {
     "name": "stdout",
     "output_type": "stream",
     "text": [
      "AntClust: phase 1 of 3 -> meeting ants\n",
      "Meeting 75000 / 75000\n",
      "Meeting 67500 / 75000\n",
      "Meeting 60000 / 75000\n",
      "Meeting 52500 / 75000\n",
      "Meeting 45000 / 75000\n",
      "Meeting 37500 / 75000\n",
      "Meeting 30000 / 75000\n",
      "Meeting 22500 / 75000\n",
      "Meeting 15000 / 75000\n",
      "Meeting 7500 / 75000\n",
      "AntClust: phase 2 of 3 -> shrink nests\n",
      "AntClust: phase 3 of 3 -> reassign ants\n"
     ]
    }
   ],
   "source": [
    "# ----------------------\n",
    "#       imports\n",
    "# ----------------------\n",
    "# import opencv\n",
    "import cv2 as cv\n",
    "# matplotlib\n",
    "import matplotlib.pyplot as plt\n",
    "from sklearn.metrics import pairwise_distances\n",
    "\n",
    "# make AntClus dir known\n",
    "import sys\n",
    "sys.path.append(\"../AntClust\")\n",
    "# import AntClust\n",
    "from AntClust import AntClust\n",
    "from importlib import reload\n",
    "import distance_classes\n",
    "reload(distance_classes)\n",
    "# import the rule set\n",
    "from rules import labroche_rules\n",
    "\n",
    "f_sim = [distance_classes.similarity_categorical()]\n",
    "ant_clust = AntClust(f_sim, labroche_rules())\n",
    "ant = [[mushroom_encoded.iloc[i]] for i in range(mushroom_encoded.shape[0])]\n",
    "ant_clust.fit(ant)\n",
    "clusters_found = ant_clust.get_clusters()"
   ]
  },
  {
   "cell_type": "markdown",
   "metadata": {},
   "source": [
    "# Metrics"
   ]
  },
  {
   "cell_type": "code",
   "execution_count": 74,
   "metadata": {},
   "outputs": [
    {
     "data": {
      "text/html": [
       "<div>\n",
       "<style scoped>\n",
       "    .dataframe tbody tr th:only-of-type {\n",
       "        vertical-align: middle;\n",
       "    }\n",
       "\n",
       "    .dataframe tbody tr th {\n",
       "        vertical-align: top;\n",
       "    }\n",
       "\n",
       "    .dataframe thead th {\n",
       "        text-align: right;\n",
       "    }\n",
       "</style>\n",
       "<table border=\"1\" class=\"dataframe\">\n",
       "  <thead>\n",
       "    <tr style=\"text-align: right;\">\n",
       "      <th></th>\n",
       "      <th>Homogeneity</th>\n",
       "      <th>Completeness</th>\n",
       "      <th>V-measure</th>\n",
       "      <th>Adjusted Rand-Index</th>\n",
       "    </tr>\n",
       "  </thead>\n",
       "  <tbody>\n",
       "    <tr>\n",
       "      <th>AntClust (Jaccard similarity)</th>\n",
       "      <td>0.926437</td>\n",
       "      <td>0.114274</td>\n",
       "      <td>0.203452</td>\n",
       "      <td>0.046784</td>\n",
       "    </tr>\n",
       "    <tr>\n",
       "      <th>K-means (k=2)</th>\n",
       "      <td>0.011993</td>\n",
       "      <td>0.005950</td>\n",
       "      <td>0.007954</td>\n",
       "      <td>0.023562</td>\n",
       "    </tr>\n",
       "    <tr>\n",
       "      <th>K-means (k=3)</th>\n",
       "      <td>0.195499</td>\n",
       "      <td>0.058787</td>\n",
       "      <td>0.090393</td>\n",
       "      <td>0.033639</td>\n",
       "    </tr>\n",
       "    <tr>\n",
       "      <th>K-means (k=4)</th>\n",
       "      <td>0.239852</td>\n",
       "      <td>0.058869</td>\n",
       "      <td>0.094535</td>\n",
       "      <td>0.059449</td>\n",
       "    </tr>\n",
       "  </tbody>\n",
       "</table>\n",
       "</div>"
      ],
      "text/plain": [
       "                               Homogeneity  Completeness  V-measure  \\\n",
       "AntClust (Jaccard similarity)     0.926437      0.114274   0.203452   \n",
       "K-means (k=2)                     0.011993      0.005950   0.007954   \n",
       "K-means (k=3)                     0.195499      0.058787   0.090393   \n",
       "K-means (k=4)                     0.239852      0.058869   0.094535   \n",
       "\n",
       "                               Adjusted Rand-Index  \n",
       "AntClust (Jaccard similarity)             0.046784  \n",
       "K-means (k=2)                             0.023562  \n",
       "K-means (k=3)                             0.033639  \n",
       "K-means (k=4)                             0.059449  "
      ]
     },
     "execution_count": 74,
     "metadata": {},
     "output_type": "execute_result"
    }
   ],
   "source": [
    "from sklearn import metrics\n",
    "import pandas as pd\n",
    "df = pd.DataFrame()\n",
    "\n",
    "\n",
    "homogeneity_score = metrics.homogeneity_score(binary_labels, clusters_found)\n",
    "completeness_score = metrics.completeness_score(binary_labels, clusters_found)\n",
    "v_score = metrics.v_measure_score(binary_labels, clusters_found)\n",
    "ari_score = metrics.adjusted_rand_score(binary_labels, clusters_found)\n",
    "pd_data = {\n",
    "    'Homogeneity': homogeneity_score,\n",
    "    'Completeness': completeness_score,\n",
    "    'V-measure': v_score,\n",
    "    'Adjusted Rand-Index': ari_score,\n",
    "}\n",
    "\n",
    "# Creating a new DataFrame with the data for the new row\n",
    "new_row = pd.DataFrame(pd_data, index=[\"AntClust (Jaccard similarity)\"])\n",
    "df = pd.concat([df, new_row])\n",
    "\n",
    "for k, k_label in cluster_results:\n",
    "    homogeneity_score = metrics.homogeneity_score(binary_labels, k_label)\n",
    "    completeness_score = metrics.completeness_score(binary_labels, k_label)\n",
    "    v_score = metrics.v_measure_score(binary_labels, k_label)\n",
    "    ari_score = metrics.adjusted_rand_score(binary_labels, k_label)\n",
    "    pd_data = {\n",
    "        'Homogeneity': homogeneity_score,\n",
    "        'Completeness': completeness_score,\n",
    "        'V-measure': v_score,\n",
    "        'Adjusted Rand-Index': ari_score,\n",
    "    }\n",
    "    new_row = pd.DataFrame(pd_data, index=[f\"K-means (k={k})\"])\n",
    "    df = pd.concat([df, new_row])\n",
    "\n",
    "df\n"
   ]
  }
 ],
 "metadata": {
  "kernelspec": {
   "display_name": "base",
   "language": "python",
   "name": "python3"
  },
  "language_info": {
   "codemirror_mode": {
    "name": "ipython",
    "version": 3
   },
   "file_extension": ".py",
   "mimetype": "text/x-python",
   "name": "python",
   "nbconvert_exporter": "python",
   "pygments_lexer": "ipython3",
   "version": "3.9.13"
  }
 },
 "nbformat": 4,
 "nbformat_minor": 2
}
