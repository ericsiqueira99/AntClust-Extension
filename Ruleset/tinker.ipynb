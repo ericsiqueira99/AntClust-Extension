{
 "cells": [
  {
   "cell_type": "code",
   "execution_count": 13,
   "metadata": {},
   "outputs": [
    {
     "data": {
      "text/html": [
       "<div>\n",
       "<style scoped>\n",
       "    .dataframe tbody tr th:only-of-type {\n",
       "        vertical-align: middle;\n",
       "    }\n",
       "\n",
       "    .dataframe tbody tr th {\n",
       "        vertical-align: top;\n",
       "    }\n",
       "\n",
       "    .dataframe thead th {\n",
       "        text-align: right;\n",
       "    }\n",
       "</style>\n",
       "<table border=\"1\" class=\"dataframe\">\n",
       "  <thead>\n",
       "    <tr style=\"text-align: right;\">\n",
       "      <th></th>\n",
       "      <th>2 clusters</th>\n",
       "      <th>3 clusters</th>\n",
       "      <th>4 clusters</th>\n",
       "      <th>5 clusters</th>\n",
       "      <th>6 clusters</th>\n",
       "      <th>7 clusters</th>\n",
       "      <th>8 clusters</th>\n",
       "      <th>9 clusters</th>\n",
       "      <th>10 clusters</th>\n",
       "    </tr>\n",
       "  </thead>\n",
       "  <tbody>\n",
       "    <tr>\n",
       "      <th>name1</th>\n",
       "      <td>2</td>\n",
       "      <td>3</td>\n",
       "      <td>4</td>\n",
       "      <td>5</td>\n",
       "      <td>6</td>\n",
       "      <td>7</td>\n",
       "      <td>8</td>\n",
       "      <td>9</td>\n",
       "      <td>10</td>\n",
       "    </tr>\n",
       "    <tr>\n",
       "      <th>name2</th>\n",
       "      <td>2</td>\n",
       "      <td>3</td>\n",
       "      <td>4</td>\n",
       "      <td>5</td>\n",
       "      <td>6</td>\n",
       "      <td>7</td>\n",
       "      <td>8</td>\n",
       "      <td>9</td>\n",
       "      <td>10</td>\n",
       "    </tr>\n",
       "  </tbody>\n",
       "</table>\n",
       "</div>"
      ],
      "text/plain": [
       "      2 clusters 3 clusters 4 clusters 5 clusters 6 clusters 7 clusters  \\\n",
       "name1          2          3          4          5          6          7   \n",
       "name2          2          3          4          5          6          7   \n",
       "\n",
       "      8 clusters 9 clusters 10 clusters  \n",
       "name1          8          9          10  \n",
       "name2          8          9          10  "
      ]
     },
     "execution_count": 13,
     "metadata": {},
     "output_type": "execute_result"
    }
   ],
   "source": [
    "import pandas as pd\n",
    "import numpy as np\n",
    "\n",
    "# Your list of 10 values\n",
    "values = [np.array([2, 3, 4, 5, 6, 7, 8, 9, 10]), np.array([2, 3, 4, 5, 6, 7, 8, 9, 10])]\n",
    "name_list = [\"name1\", \"name2\"]\n",
    "def build_csv(name_list, value_list,min,max,metric_type):\n",
    "    columns = ['{} clusters'.format(i) for i in range(min,max+1)]\n",
    "    df = pd.DataFrame(columns=columns)\n",
    "    for i in range(len(value_list)):\n",
    "        new_row_df = pd.DataFrame([value_list[i]], columns=df.columns,index=[name_list[i]])\n",
    "        df = pd.concat([df,new_row_df])\n",
    "    #df.to_csv(f'ruleset_metrics_{metric_type}.csv', index=True)\n",
    "    return df\n",
    "\n",
    "build_csv(name_list,values,2,10,\"ari\")"
   ]
  },
  {
   "cell_type": "code",
   "execution_count": null,
   "metadata": {},
   "outputs": [],
   "source": []
  }
 ],
 "metadata": {
  "kernelspec": {
   "display_name": "base",
   "language": "python",
   "name": "python3"
  },
  "language_info": {
   "codemirror_mode": {
    "name": "ipython",
    "version": 3
   },
   "file_extension": ".py",
   "mimetype": "text/x-python",
   "name": "python",
   "nbconvert_exporter": "python",
   "pygments_lexer": "ipython3",
   "version": "3.9.13"
  }
 },
 "nbformat": 4,
 "nbformat_minor": 2
}
