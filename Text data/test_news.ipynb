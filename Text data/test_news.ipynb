{
  "cells": [
    {
      "cell_type": "markdown",
      "metadata": {},
      "source": [
        "\n",
        "# Clustering text documents using k-means\n",
        "\n",
        "Source: https://scikit-learn.org/stable/auto_examples/text/plot_document_clustering.html\n",
        "\n",
        "This is an example showing how the scikit-learn API can be used to cluster\n",
        "documents by topics using a [Bag of Words approach](https://en.wikipedia.org/wiki/Bag-of-words_model).\n",
        "\n",
        "Two algorithms are demonstrated, namely :class:`~sklearn.cluster.KMeans` and its more\n",
        "scalable variant, :class:`~sklearn.cluster.MiniBatchKMeans`. Additionally,\n",
        "latent semantic analysis is used to reduce dimensionality and discover latent\n",
        "patterns in the data.\n",
        "\n",
        "This example uses two different text vectorizers: a\n",
        ":class:`~sklearn.feature_extraction.text.TfidfVectorizer` and a\n",
        ":class:`~sklearn.feature_extraction.text.HashingVectorizer`. See the example\n",
        "notebook `sphx_glr_auto_examples_text_plot_hashing_vs_dict_vectorizer.py`\n",
        "for more information on vectorizers and a comparison of their processing times.\n",
        "\n",
        "For document analysis via a supervised learning approach, see the example script\n",
        "`sphx_glr_auto_examples_text_plot_document_classification_20newsgroups.py`.\n"
      ]
    },
    {
      "cell_type": "code",
      "execution_count": 1,
      "metadata": {
        "collapsed": false
      },
      "outputs": [],
      "source": [
        "# Author: Peter Prettenhofer <peter.prettenhofer@gmail.com>\n",
        "#         Lars Buitinck\n",
        "#         Olivier Grisel <olivier.grisel@ensta.org>\n",
        "#         Arturo Amor <david-arturo.amor-quiroz@inria.fr>\n",
        "# License: BSD 3 clause"
      ]
    },
    {
      "cell_type": "markdown",
      "metadata": {},
      "source": [
        "## Loading text data\n",
        "\n",
        "We load data from `20newsgroups_dataset`, which comprises around 18,000\n",
        "newsgroups posts on 20 topics. For illustrative purposes and to reduce the\n",
        "computational cost, we select a subset of 4 topics only accounting for around\n",
        "3,400 documents. See the example\n",
        "`sphx_glr_auto_examples_text_plot_document_classification_20newsgroups.py`\n",
        "to gain intuition on the overlap of such topics.\n",
        "\n",
        "Notice that, by default, the text samples contain some message metadata such\n",
        "as `\"headers\"`, `\"footers\"` (signatures) and `\"quotes\"` to other posts. We use\n",
        "the `remove` parameter from :func:`~sklearn.datasets.fetch_20newsgroups` to\n",
        "strip those features and have a more sensible clustering problem.\n",
        "\n"
      ]
    },
    {
      "cell_type": "code",
      "execution_count": 2,
      "metadata": {
        "collapsed": false
      },
      "outputs": [
        {
          "name": "stdout",
          "output_type": "stream",
          "text": [
            "3387 documents - 4 categories\n"
          ]
        }
      ],
      "source": [
        "import numpy as np\n",
        "\n",
        "from sklearn.datasets import fetch_20newsgroups\n",
        "\n",
        "categories = [\n",
        "    \"alt.atheism\",\n",
        "    \"talk.religion.misc\",\n",
        "    \"comp.graphics\",\n",
        "    \"sci.space\",\n",
        "]\n",
        "\n",
        "dataset = fetch_20newsgroups(\n",
        "    remove=(\"headers\", \"footers\", \"quotes\"),\n",
        "    subset=\"all\",\n",
        "    categories=categories,\n",
        "    shuffle=True,\n",
        "    random_state=42,\n",
        ")\n",
        "\n",
        "labels = dataset.target\n",
        "unique_labels, category_sizes = np.unique(labels, return_counts=True)\n",
        "true_k = unique_labels.shape[0]\n",
        "\n",
        "print(f\"{len(dataset.data)} documents - {true_k} categories\")"
      ]
    },
    {
      "cell_type": "markdown",
      "metadata": {},
      "source": [
        "## Quantifying the quality of clustering results\n",
        "\n",
        "From (https://scikit-learn.org/stable/auto_examples/text/plot_document_clustering.html)\n",
        "\n",
        "In this section we define a function to score different clustering pipelines\n",
        "using several metrics.\n",
        "\n",
        "Clustering algorithms are fundamentally unsupervised learning methods.\n",
        "However, since we happen to have class labels for this specific dataset, it is\n",
        "possible to use evaluation metrics that leverage this \"supervised\" ground\n",
        "truth information to quantify the quality of the resulting clusters. Examples\n",
        "of such metrics are the following:\n",
        "\n",
        "- homogeneity, which quantifies how much clusters contain only members of a\n",
        "  single class;\n",
        "\n",
        "- completeness, which quantifies how much members of a given class are\n",
        "  assigned to the same clusters;\n",
        "\n",
        "- V-measure, the harmonic mean of completeness and homogeneity;\n",
        "\n",
        "- Rand-Index, which measures how frequently pairs of data points are grouped\n",
        "  consistently according to the result of the clustering algorithm and the\n",
        "  ground truth class assignment;\n",
        "\n",
        "- Adjusted Rand-Index, a chance-adjusted Rand-Index such that random cluster\n",
        "  assignment have an ARI of 0.0 in expectation.\n",
        "\n",
        "If the ground truth labels are not known, evaluation can only be performed\n",
        "using the model results itself. In that case, the Silhouette Coefficient comes in\n",
        "handy. See `sphx_glr_auto_examples_cluster_plot_kmeans_silhouette_analysis.py`\n",
        "for an example on how to do it.\n",
        "\n",
        "For more reference, see `clustering_evaluation`.\n",
        "\n"
      ]
    },
    {
      "cell_type": "code",
      "execution_count": 3,
      "metadata": {
        "collapsed": false
      },
      "outputs": [],
      "source": [
        "from collections import defaultdict\n",
        "from time import time\n",
        "\n",
        "from sklearn import metrics\n",
        "\n",
        "evaluations = []\n",
        "evaluations_std = []\n",
        "\n",
        "\n",
        "def fit_and_evaluate(km, X, name=None, n_runs=5):\n",
        "    name = km.__class__.__name__ if name is None else name\n",
        "\n",
        "    train_times = []\n",
        "    scores = defaultdict(list)\n",
        "    for seed in range(n_runs):\n",
        "        km.set_params(random_state=seed)\n",
        "        t0 = time()\n",
        "        km.fit(X)\n",
        "        train_times.append(time() - t0)\n",
        "        scores[\"Homogeneity\"].append(metrics.homogeneity_score(labels, km.labels_))\n",
        "        scores[\"Completeness\"].append(metrics.completeness_score(labels, km.labels_))\n",
        "        scores[\"V-measure\"].append(metrics.v_measure_score(labels, km.labels_))\n",
        "        scores[\"Adjusted Rand-Index\"].append(\n",
        "            metrics.adjusted_rand_score(labels, km.labels_)\n",
        "        )\n",
        "        scores[\"Silhouette Coefficient\"].append(\n",
        "            metrics.silhouette_score(X, km.labels_, sample_size=2000)\n",
        "        )\n",
        "    train_times = np.asarray(train_times)\n",
        "\n",
        "    print(f\"clustering done in {train_times.mean():.2f} ± {train_times.std():.2f} s \")\n",
        "    evaluation = {\n",
        "        \"estimator\": name,\n",
        "        \"train_time\": train_times.mean(),\n",
        "    }\n",
        "    evaluation_std = {\n",
        "        \"estimator\": name,\n",
        "        \"train_time\": train_times.std(),\n",
        "    }\n",
        "    for score_name, score_values in scores.items():\n",
        "        mean_score, std_score = np.mean(score_values), np.std(score_values)\n",
        "        print(f\"{score_name}: {mean_score:.3f} ± {std_score:.3f}\")\n",
        "        evaluation[score_name] = mean_score\n",
        "        evaluation_std[score_name] = std_score\n",
        "    evaluations.append(evaluation)\n",
        "    evaluations_std.append(evaluation_std)"
      ]
    },
    {
      "cell_type": "markdown",
      "metadata": {},
      "source": [
        "## K-means clustering on text features\n",
        "\n",
        "Two feature extraction methods are used in this example:\n",
        "\n",
        "- :class:`~sklearn.feature_extraction.text.TfidfVectorizer` uses an in-memory\n",
        "  vocabulary (a Python dict) to map the most frequent words to features\n",
        "  indices and hence compute a word occurrence frequency (sparse) matrix. The\n",
        "  word frequencies are then reweighted using the Inverse Document Frequency\n",
        "  (IDF) vector collected feature-wise over the corpus.\n",
        "\n",
        "- :class:`~sklearn.feature_extraction.text.HashingVectorizer` hashes word\n",
        "  occurrences to a fixed dimensional space, possibly with collisions. The word\n",
        "  count vectors are then normalized to each have l2-norm equal to one\n",
        "  (projected to the euclidean unit-sphere) which seems to be important for\n",
        "  k-means to work in high dimensional space.\n",
        "\n",
        "Furthermore it is possible to post-process those extracted features using\n",
        "dimensionality reduction. We will explore the impact of those choices on the\n",
        "clustering quality in the following.\n",
        "\n",
        "### Feature Extraction using TfidfVectorizer\n",
        "\n",
        "We first benchmark the estimators using a dictionary vectorizer along with an\n",
        "IDF normalization as provided by\n",
        ":class:`~sklearn.feature_extraction.text.TfidfVectorizer`.\n",
        "\n"
      ]
    },
    {
      "cell_type": "code",
      "execution_count": 4,
      "metadata": {
        "collapsed": false
      },
      "outputs": [
        {
          "name": "stdout",
          "output_type": "stream",
          "text": [
            "vectorization done in 2.713 s\n",
            "n_samples: 3387, n_features: 7929\n"
          ]
        }
      ],
      "source": [
        "from sklearn.feature_extraction.text import TfidfVectorizer\n",
        "\n",
        "vectorizer = TfidfVectorizer(\n",
        "    max_df=0.5,\n",
        "    min_df=5,\n",
        "    stop_words=\"english\",\n",
        ")\n",
        "t0 = time()\n",
        "X_tfidf = vectorizer.fit_transform(dataset.data)\n",
        "\n",
        "print(f\"vectorization done in {time() - t0:.3f} s\")\n",
        "print(f\"n_samples: {X_tfidf.shape[0]}, n_features: {X_tfidf.shape[1]}\")"
      ]
    },
    {
      "cell_type": "markdown",
      "metadata": {},
      "source": [
        "After ignoring terms that appear in more than 50% of the documents (as set by\n",
        "`max_df=0.5`) and terms that are not present in at least 5 documents (set by\n",
        "`min_df=5`), the resulting number of unique terms `n_features` is around\n",
        "8,000. We can additionally quantify the sparsity of the `X_tfidf` matrix as\n",
        "the fraction of non-zero entries divided by the total number of elements.\n",
        "\n"
      ]
    },
    {
      "cell_type": "code",
      "execution_count": 5,
      "metadata": {
        "collapsed": false
      },
      "outputs": [
        {
          "name": "stdout",
          "output_type": "stream",
          "text": [
            "0.007\n"
          ]
        }
      ],
      "source": [
        "print(f\"{X_tfidf.nnz / np.prod(X_tfidf.shape):.3f}\")"
      ]
    },
    {
      "cell_type": "markdown",
      "metadata": {},
      "source": [
        "We find that around 0.7% of the entries of the `X_tfidf` matrix are non-zero.\n",
        "\n",
        "\n",
        "### Clustering sparse data with k-means\n",
        "\n",
        "As both :class:`~sklearn.cluster.KMeans` and\n",
        ":class:`~sklearn.cluster.MiniBatchKMeans` optimize a non-convex objective\n",
        "function, their clustering is not guaranteed to be optimal for a given random\n",
        "init. Even further, on sparse high-dimensional data such as text vectorized\n",
        "using the Bag of Words approach, k-means can initialize centroids on extremely\n",
        "isolated data points. Those data points can stay their own centroids all\n",
        "along.\n",
        "\n",
        "The following code illustrates how the previous phenomenon can sometimes lead\n",
        "to highly imbalanced clusters, depending on the random initialization:\n",
        "\n"
      ]
    },
    {
      "cell_type": "code",
      "execution_count": 6,
      "metadata": {
        "collapsed": false
      },
      "outputs": [
        {
          "name": "stdout",
          "output_type": "stream",
          "text": [
            "Number of elements assigned to each cluster: [   1    1 3384    1]\n",
            "Number of elements assigned to each cluster: [1688  725  238  736]\n",
            "Number of elements assigned to each cluster: [2004  446  646  291]\n",
            "Number of elements assigned to each cluster: [1695  649  446  597]\n",
            "Number of elements assigned to each cluster: [ 338 2155  417  477]\n",
            "\n",
            "True number of documents in each category according to the class labels: [799 973 987 628]\n"
          ]
        }
      ],
      "source": [
        "from sklearn.cluster import KMeans\n",
        "\n",
        "for seed in range(5):\n",
        "    kmeans = KMeans(\n",
        "        n_clusters=true_k,\n",
        "        max_iter=100,\n",
        "        n_init=1,\n",
        "        random_state=seed,\n",
        "    ).fit(X_tfidf)\n",
        "    cluster_ids, cluster_sizes = np.unique(kmeans.labels_, return_counts=True)\n",
        "    print(f\"Number of elements assigned to each cluster: {cluster_sizes}\")\n",
        "print()\n",
        "print(\n",
        "    \"True number of documents in each category according to the class labels: \"\n",
        "    f\"{category_sizes}\"\n",
        ")"
      ]
    },
    {
      "cell_type": "markdown",
      "metadata": {},
      "source": [
        "To avoid this problem, one possibility is to increase the number of runs with\n",
        "independent random initiations `n_init`. In such case the clustering with the\n",
        "best inertia (objective function of k-means) is chosen.\n",
        "\n"
      ]
    },
    {
      "cell_type": "code",
      "execution_count": 7,
      "metadata": {
        "collapsed": false
      },
      "outputs": [
        {
          "name": "stdout",
          "output_type": "stream",
          "text": [
            "clustering done in 6.40 ± 1.39 s \n",
            "Homogeneity: 0.343 ± 0.029\n",
            "Completeness: 0.404 ± 0.009\n",
            "V-measure: 0.370 ± 0.018\n",
            "Adjusted Rand-Index: 0.213 ± 0.012\n",
            "Silhouette Coefficient: 0.008 ± 0.001\n"
          ]
        }
      ],
      "source": [
        "kmeans = KMeans(\n",
        "    n_clusters=true_k,\n",
        "    max_iter=100,\n",
        "    n_init=5,\n",
        ")\n",
        "\n",
        "fit_and_evaluate(kmeans, X_tfidf, name=\"KMeans\\non tf-idf vectors\")"
      ]
    },
    {
      "cell_type": "markdown",
      "metadata": {},
      "source": [
        "All those clustering evaluation metrics have a maximum value of 1.0 (for a\n",
        "perfect clustering result). Higher values are better. Values of the Adjusted\n",
        "Rand-Index close to 0.0 correspond to a random labeling. Notice from the\n",
        "scores above that the cluster assignment is indeed well above chance level,\n",
        "but the overall quality can certainly improve.\n",
        "\n",
        "Keep in mind that the class labels may not reflect accurately the document\n",
        "topics and therefore metrics that use labels are not necessarily the best to\n",
        "evaluate the quality of our clustering pipeline.\n",
        "\n",
        "### Performing dimensionality reduction using LSA\n",
        "\n",
        "A `n_init=1` can still be used as long as the dimension of the vectorized\n",
        "space is reduced first to make k-means more stable. For such purpose we use\n",
        ":class:`~sklearn.decomposition.TruncatedSVD`, which works on term count/tf-idf\n",
        "matrices. Since SVD results are not normalized, we redo the normalization to\n",
        "improve the :class:`~sklearn.cluster.KMeans` result. Using SVD to reduce the\n",
        "dimensionality of TF-IDF document vectors is often known as [latent semantic\n",
        "analysis](https://en.wikipedia.org/wiki/Latent_semantic_analysis) (LSA) in\n",
        "the information retrieval and text mining literature.\n",
        "\n"
      ]
    },
    {
      "cell_type": "code",
      "execution_count": 8,
      "metadata": {
        "collapsed": false
      },
      "outputs": [
        {
          "name": "stdout",
          "output_type": "stream",
          "text": [
            "LSA done in 1.756 s\n",
            "Explained variance of the SVD step: 18.4%\n"
          ]
        }
      ],
      "source": [
        "from sklearn.decomposition import TruncatedSVD\n",
        "from sklearn.pipeline import make_pipeline\n",
        "from sklearn.preprocessing import Normalizer\n",
        "\n",
        "lsa = make_pipeline(TruncatedSVD(n_components=100), Normalizer(copy=False))\n",
        "t0 = time()\n",
        "X_lsa = lsa.fit_transform(X_tfidf)\n",
        "explained_variance = lsa[0].explained_variance_ratio_.sum()\n",
        "\n",
        "print(f\"LSA done in {time() - t0:.3f} s\")\n",
        "print(f\"Explained variance of the SVD step: {explained_variance * 100:.1f}%\")"
      ]
    },
    {
      "cell_type": "markdown",
      "metadata": {},
      "source": [
        "Using a single initialization means the processing time will be reduced for\n",
        "both :class:`~sklearn.cluster.KMeans` and\n",
        ":class:`~sklearn.cluster.MiniBatchKMeans`.\n",
        "\n"
      ]
    },
    {
      "cell_type": "code",
      "execution_count": 9,
      "metadata": {
        "collapsed": false
      },
      "outputs": [
        {
          "name": "stdout",
          "output_type": "stream",
          "text": [
            "clustering done in 0.09 ± 0.03 s \n",
            "Homogeneity: 0.394 ± 0.014\n",
            "Completeness: 0.435 ± 0.013\n",
            "V-measure: 0.413 ± 0.012\n",
            "Adjusted Rand-Index: 0.324 ± 0.016\n",
            "Silhouette Coefficient: 0.032 ± 0.002\n"
          ]
        }
      ],
      "source": [
        "kmeans = KMeans(\n",
        "    n_clusters=true_k,\n",
        "    max_iter=100,\n",
        "    n_init=1,\n",
        ")\n",
        "\n",
        "fit_and_evaluate(kmeans, X_lsa, name=\"KMeans\\nwith LSA on tf-idf vectors\")"
      ]
    },
    {
      "cell_type": "markdown",
      "metadata": {},
      "source": [
        "### Top terms per cluster\n",
        "\n",
        "Since :class:`~sklearn.feature_extraction.text.TfidfVectorizer` can be\n",
        "inverted we can identify the cluster centers, which provide an intuition of\n",
        "the most influential words **for each cluster**. See the example script\n",
        "`sphx_glr_auto_examples_text_plot_document_classification_20newsgroups.py`\n",
        "for a comparison with the most predictive words **for each target class**.\n",
        "\n"
      ]
    },
    {
      "cell_type": "code",
      "execution_count": 11,
      "metadata": {
        "collapsed": false
      },
      "outputs": [
        {
          "name": "stdout",
          "output_type": "stream",
          "text": [
            "Cluster 0: just think don know like time say ve good does \n",
            "Cluster 1: god people jesus bible believe don think say christian religion \n",
            "Cluster 2: space launch orbit nasa moon shuttle earth like mission satellite \n",
            "Cluster 3: graphics thanks image program files file know looking help format \n"
          ]
        }
      ],
      "source": [
        "original_space_centroids = lsa[0].inverse_transform(kmeans.cluster_centers_)\n",
        "order_centroids = original_space_centroids.argsort()[:, ::-1]\n",
        "terms = vectorizer.get_feature_names_out()\n",
        "\n",
        "for i in range(true_k):\n",
        "    print(f\"Cluster {i}: \", end=\"\")\n",
        "    for ind in order_centroids[i, :10]:\n",
        "        print(f\"{terms[ind]} \", end=\"\")\n",
        "    print()"
      ]
    },
    {
      "cell_type": "markdown",
      "metadata": {},
      "source": [
        "### HashingVectorizer\n",
        "An alternative vectorization can be done using a\n",
        ":class:`~sklearn.feature_extraction.text.HashingVectorizer` instance, which\n",
        "does not provide IDF weighting as this is a stateless model (the fit method\n",
        "does nothing). When IDF weighting is needed it can be added by pipelining the\n",
        ":class:`~sklearn.feature_extraction.text.HashingVectorizer` output to a\n",
        ":class:`~sklearn.feature_extraction.text.TfidfTransformer` instance. In this\n",
        "case we also add LSA to the pipeline to reduce the dimension and sparcity of\n",
        "the hashed vector space.\n",
        "\n"
      ]
    },
    {
      "cell_type": "code",
      "execution_count": 12,
      "metadata": {
        "collapsed": false
      },
      "outputs": [
        {
          "name": "stdout",
          "output_type": "stream",
          "text": [
            "vectorization done in 5.194 s\n"
          ]
        }
      ],
      "source": [
        "from sklearn.feature_extraction.text import HashingVectorizer, TfidfTransformer\n",
        "\n",
        "lsa_vectorizer = make_pipeline(\n",
        "    HashingVectorizer(stop_words=\"english\", n_features=50_000),\n",
        "    TfidfTransformer(),\n",
        "    TruncatedSVD(n_components=100, random_state=0),\n",
        "    Normalizer(copy=False),\n",
        ")\n",
        "\n",
        "t0 = time()\n",
        "X_hashed_lsa = lsa_vectorizer.fit_transform(dataset.data)\n",
        "print(f\"vectorization done in {time() - t0:.3f} s\")"
      ]
    },
    {
      "cell_type": "markdown",
      "metadata": {},
      "source": [
        "One can observe that the LSA step takes a relatively long time to fit,\n",
        "especially with hashed vectors. The reason is that a hashed space is typically\n",
        "large (set to `n_features=50_000` in this example). One can try lowering the\n",
        "number of features at the expense of having a larger fraction of features with\n",
        "hash collisions as shown in the example notebook\n",
        "`sphx_glr_auto_examples_text_plot_hashing_vs_dict_vectorizer.py`.\n",
        "\n",
        "We now fit and evaluate the `kmeans` and `minibatch_kmeans` instances on this\n",
        "hashed-lsa-reduced data:\n",
        "\n"
      ]
    },
    {
      "cell_type": "code",
      "execution_count": 13,
      "metadata": {
        "collapsed": false
      },
      "outputs": [
        {
          "name": "stdout",
          "output_type": "stream",
          "text": [
            "clustering done in 0.11 ± 0.04 s \n",
            "Homogeneity: 0.393 ± 0.015\n",
            "Completeness: 0.442 ± 0.018\n",
            "V-measure: 0.416 ± 0.016\n",
            "Adjusted Rand-Index: 0.331 ± 0.010\n",
            "Silhouette Coefficient: 0.030 ± 0.001\n"
          ]
        }
      ],
      "source": [
        "fit_and_evaluate(kmeans, X_hashed_lsa, name=\"KMeans\\nwith LSA on hashed vectors\")"
      ]
    },
    {
      "cell_type": "markdown",
      "metadata": {},
      "source": [
        "Both methods lead to good results that are similar to running the same models\n",
        "on the traditional LSA vectors (without hashing).\n",
        "\n",
        "## Clustering evaluation summary\n",
        "\n"
      ]
    },
    {
      "cell_type": "code",
      "execution_count": 48,
      "metadata": {
        "collapsed": false
      },
      "outputs": [
        {
          "data": {
            "image/png": "[encoded data removed]",
            "text/plain": [
              "<Figure size 1600x600 with 2 Axes>"
            ]
          },
          "metadata": {},
          "output_type": "display_data"
        }
      ],
      "source": [
        "import matplotlib.pyplot as plt\n",
        "import pandas as pd\n",
        "\n",
        "fig, (ax0, ax1) = plt.subplots(ncols=2, figsize=(16, 6), sharey=True)\n",
        "\n",
        "df = pd.DataFrame(evaluations[::-1]).set_index(\"estimator\")\n",
        "df_std = pd.DataFrame(evaluations_std[::-1]).set_index(\"estimator\")\n",
        "\n",
        "df.drop(\n",
        "    [\"train_time\"],\n",
        "    axis=\"columns\",\n",
        ").plot.barh(ax=ax0, xerr=df_std)\n",
        "ax0.set_xlabel(\"Clustering scores\")\n",
        "ax0.set_ylabel(\"\")\n",
        "\n",
        "df[\"train_time\"].plot.barh(ax=ax1, xerr=df_std[\"train_time\"])\n",
        "ax1.set_xlabel(\"Clustering time (s)\")\n",
        "plt.tight_layout()"
      ]
    },
    {
      "cell_type": "markdown",
      "metadata": {},
      "source": [
        ":class:`~sklearn.cluster.KMeans` and :class:`~sklearn.cluster.MiniBatchKMeans`\n",
        "suffer from the phenomenon called the [Curse of Dimensionality](https://en.wikipedia.org/wiki/Curse_of_dimensionality) for high dimensional\n",
        "datasets such as text data. That is the reason why the overall scores improve\n",
        "when using LSA. Using LSA reduced data also improves the stability and\n",
        "requires lower clustering time, though keep in mind that the LSA step itself\n",
        "takes a long time, especially with hashed vectors.\n",
        "\n",
        "The Silhouette Coefficient is defined between 0 and 1. In all cases we obtain\n",
        "values close to 0 (even if they improve a bit after using LSA) because its\n",
        "definition requires measuring distances, in contrast with other evaluation\n",
        "metrics such as the V-measure and the Adjusted Rand Index which are only based\n",
        "on cluster assignments rather than distances. Notice that strictly speaking,\n",
        "one should not compare the Silhouette Coefficient between spaces of different\n",
        "dimension, due to the different notions of distance they imply.\n",
        "\n",
        "The homogeneity, completeness and hence v-measure metrics do not yield a\n",
        "baseline with regards to random labeling: this means that depending on the\n",
        "number of samples, clusters and ground truth classes, a completely random\n",
        "labeling will not always yield the same values. In particular random labeling\n",
        "won't yield zero scores, especially when the number of clusters is large. This\n",
        "problem can safely be ignored when the number of samples is more than a\n",
        "thousand and the number of clusters is less than 10, which is the case of the\n",
        "present example. For smaller sample sizes or larger number of clusters it is\n",
        "safer to use an adjusted index such as the Adjusted Rand Index (ARI). See the\n",
        "example\n",
        "`sphx_glr_auto_examples_cluster_plot_adjusted_for_chance_measures.py` for\n",
        "a demo on the effect of random labeling.\n",
        "\n",
        "The size of the error bars show that :class:`~sklearn.cluster.MiniBatchKMeans`\n",
        "is less stable than :class:`~sklearn.cluster.KMeans` for this relatively small\n",
        "dataset. It is more interesting to use when the number of samples is much\n",
        "bigger, but it can come at the expense of a small degradation in clustering\n",
        "quality compared to the traditional k-means algorithm.\n",
        "\n"
      ]
    },
    {
      "cell_type": "markdown",
      "metadata": {},
      "source": [
        "# AntClust Cosine Similarity\n",
        "\n",
        "Apply AntClust for text data and compare with previous results"
      ]
    },
    {
      "cell_type": "code",
      "execution_count": 35,
      "metadata": {},
      "outputs": [
        {
          "data": {
            "application/vnd.jupyter.widget-view+json": {
              "model_id": "486fdf713b6e4c788717a588059908c6",
              "version_major": 2,
              "version_minor": 0
            },
            "text/plain": [
              "Batches:   0%|          | 0/14 [00:00<?, ?it/s]"
            ]
          },
          "metadata": {},
          "output_type": "display_data"
        }
      ],
      "source": [
        "# ----------------------\n",
        "#       imports\n",
        "# ----------------------\n",
        "# import opencv\n",
        "import cv2 as cv\n",
        "# matplotlib\n",
        "import matplotlib.pyplot as plt\n",
        "\n",
        "# make AntClus dir known\n",
        "import sys\n",
        "sys.path.append(\"../AntClust\")\n",
        "# import AntClust\n",
        "from AntClust import AntClust\n",
        "from importlib import reload\n",
        "\n",
        "# import the precomputed distance matrix function for AntClust\n",
        "import distance_classes\n",
        "reload(distance_classes)# import the rule set\n",
        "from rules import labroche_rules\n",
        "\n",
        "# ----------------------\n",
        "#       AntClust\n",
        "# ----------------------\n",
        "# tell AntClust to treat the data set as precomputed similarity matrix\n",
        "# similarity function\n",
        "f_sim = [distance_classes.text_cosine_similarity(dataset.data)]"
      ]
    },
    {
      "cell_type": "code",
      "execution_count": 36,
      "metadata": {},
      "outputs": [
        {
          "name": "stdout",
          "output_type": "stream",
          "text": [
            "AntClust: phase 1 of 3 -> meeting ants\n",
            "Meeting 254025 / 254025\n",
            "Meeting 203220 / 254025\n",
            "Meeting 152415 / 254025\n",
            "Meeting 101610 / 254025\n",
            "Meeting 50805 / 254025\n",
            "AntClust: phase 2 of 3 -> shrink nests\n",
            "AntClust: phase 3 of 3 -> reassign ants\n"
          ]
        }
      ],
      "source": [
        "# ----------------------\n",
        "#       AntClust\n",
        "# ----------------------\n",
        "# tell AntClust to treat the data set as precomputed similarity matrix\n",
        "# similarity function\n",
        "ant_clust = AntClust(f_sim, labroche_rules())\n",
        "t0 = time()\n",
        "# find clusters by using the distance matrix of the data\n",
        "ant_clust.fit([[i] for i in range(len(dataset.data))])\n",
        "train_time = time() - t0\n",
        "# get the clustering result\n",
        "clusters_found = ant_clust.get_clusters()"
      ]
    },
    {
      "cell_type": "code",
      "execution_count": 53,
      "metadata": {},
      "outputs": [
        {
          "ename": "ValueError",
          "evalue": "Expected 2D array, got 1D array instead:\narray=[\"My point is that you set up your views as the only way to believe.  Saying \\nthat all eveil in this world is caused by atheism is ridiculous and \\ncounterproductive to dialogue in this newsgroups.  I see in your posts a \\nspirit of condemnation of the atheists in this newsgroup bacause they don'\\nt believe exactly as you do.  If you're here to try to convert the atheists \\nhere, you're failing miserably.  Who wants to be in position of constantly \\ndefending themselves agaist insulting attacks, like you seem to like to do?!\\nI'm sorry you're so blind that you didn't get the messgae in the quote, \\neveryone else has seemed to.\"\n \"\\nBy '8 grey level images' you mean 8 items of 1bit images?\\nIt does work(!), but it doesn't work if you have more than 1bit\\nin your screen and if the screen intensity is non-linear.\\n\\nWith 2 bit per pixel; there could be 1*c_1 + 4*c_2 timing,\\nthis gives 16 levels, but they are linear if screen intensity is\\nlinear.\\nWith 1*c_1 + 2*c_2 it works, but we have to find the best\\ncompinations -- there's 10 levels, but 16 choises; best 10 must be\\nchosen. Different compinations for the same level, varies a bit, but\\nthe levels keeps their order.\\n\\nReaders should verify what I wrote... :-)\"\n 'FIRST ANNUAL PHIGS USER GROUP CONFERENCE\\n\\n          The First Annual PHIGS User Group Conference was held March 21-24\\n          in Orlando, Florida.  The conference was organized by the Rensse-\\n          laer Design Research Center in co-operation with  IEEE  and  SIG-\\n          GRAPH.   Attendees  came  from five countries spanning three con-\\n          tinents.   A  good  cross-section  of  the  PHIGS  community  was\\n          represented  at this conference with participants including PHIGS\\n          users, workstation vendors, third-party PHIGS implementors, stan-\\n          dards  committee  members,  and  researchers  from  industry  and\\n          academia.  The opening speaker, Dr. Richard Puk, challenged PHIGS\\n          users  to  \"take  charge of your PHIGS\" by participating in PHIGS\\n          standardization activities and communicating their needs to PHIGS\\n          implementors.    The   closing  speaker,  Dr.  Andries  Van  Dam,\\n          described his vision of the future of graphics standards  \"beyond\\n          PHIGS\".\\n\\n          Technical paper sessions in the conference covered the  following\\n          topics:  PHIGS  and  X, Application Toolkits, Application Issues,\\n          Texture Mapping, NURBS,  PHIGS  Extensions,  and  Object-Oriented\\n          Libraries and Frameworks.  Panel sessions on PHIGS and PEX, PHIGS\\n          Non-Retained Data, Real-World CAD Applications Using  PHIGS,  and\\n          Portability  Issues generated enthusiastic discussions and formed\\n          a good forum for exchange of ideas, needs, and experiences.   The\\n          conference  also included a day full of tutorials on topics rang-\\n          ing from mathematics for 3D  graphics  to  object-oriented  tools\\n          based on PHIGS.\\n\\n          Next year\\'s conference is planned for March, 1994.\\n\\n          PHIGS EVERYWHERE\\n\\n          At the conference, PHIGS  vendors   described   and  demonstrated\\n          PHIGS  products  that  run on all types of computers, from PCs to\\n          mainframes.\\n\\n          Megatek Corporation demonstrated their PHIGS extensions including\\n          conditional traversal, composite logical input devices, texturing\\n          and translucency.\\n\\n          Template Graphics  Software  launched  FIGARO+  PRO,  the  Photo-\\n          Realistic  Option  for  PHIGS+.  FIGARO+  PRO  is designed to add\\n          advanced rendering to the existing PHIGS+ API, with features like\\n          ray   tracing,  materials,  anti-aliasing  and  texture  mapping.\\n          Radiosity support is also planned.\\n\\n          FIGARO+ is an example of how TGS continues to add newly  emerging\\n          graphics  features to their products.  FIGARO+ supports immediate\\n          mode extensions to PHIGS and also supports SUN XGL,  HP  Starbase\\n          and SGI GL/OpenGL. FIGARO+ for NT will be released this summer.\\n\\n          TGS also demonstrated the latest versions of FIGraph, a  powerful\\n          \"2-call\"  charting  system  based on PHIGS+, and FIGt, an object-\\n          oriented utility library for PHIGS/PEX developers.\\n\\n          G5G and Gallium Software demonstrated a new version of GPHIGS  on\\n          Silicon  Graphics  workstations. Scheduled for summer, 1993, Ver-\\n          sion 3.0 of GPHIGS, the company\\'s  PHIGS+  library  for  worksta-\\n          tions,  will include an advanced PHIGS debugger that allows PHIGS\\n          developers to display and browse PHIGS structures and other PHIGS\\n          internal  state.  G5G  also  described  their Non-Duplicated Data\\n          Store that stores pointers to application data in the GPHIGS  CSS\\n          for  more  efficient  use  of  memory. In addition, G5G described\\n          their application GSE that allows application callback  functions\\n          during  GPHIGS traversal.  GPHIGS and PHIGURE, G5G\\'s data visual-\\n          izer and application development toolkit, are currently available\\n          on  all  major  workstations  that support GL, X Windows, PEX, or\\n          Starbase.\\n\\n          Wise Software presented a slide show of  Z-PHIGS  for  MS-Windows\\n          and ARENA, a PHIGS based modeller/render. Z-PHIGS implements most\\n          of the PHIGS+ primitives.  In addition Z-PHIGS has built in  many\\n          advanced  rendering features like texture mapping, shadow genera-\\n          tion, area quick updates and ray tracing. A demo disk of  Z-PHIGS\\n          or ARENA is available on request.\\n\\n          ATC exhibited GRAFPAK-PHIGS, their full-featured PHIGS  implemen-\\n          tation  based  on  DEC  PHIGS. GRAFPAK-PHIGS is available on most\\n          workstation platforms with C, FORTRAN and Ada bindings and incor-\\n          porates PEX support.\\n\\n          Within the booth sponsored by Advanced Technology Center, Digital\\n          Equipment  Corporation demonstrated DEC PHIGS V2.4 running on the\\n          DEC 3000/400 AXP PXG. ATCs\\' GRAFPAK-PHIGS is a port of DEC PHIGS.\\n          DEC  PHIGS  V2.4 contains most PHIGS and PHIGS PLUS features with\\n          support for PEX V5.1  protocol.  DEC  PHIGS  also  contains  most\\n          GM/EDS   PHIGS  extensions  including  post-to-view  as  well  as\\n          proprietary extensions to support immediate  mode  rendering  and\\n          the use of PHIGS in an X11 environment.\\n\\n          AXP, DEC, and DEC PHIGS are trademarks of Digital Equipment  Cor-\\n          poration.  GRAFPAK-PHIGS and ATC are trademarks of Advanced Tech-\\n          nology Center. PEX and X11 are trademarks of Massachusetts Insti-\\n          tute of Technology.\\n\\n          The IBM exhibit featured a GTO accelerator attached to an IBM 340\\n          workstation running graPHIGS and PEX.\\n\\n          Hewlett Packard and SHOgraphics demonstrated at the conference. A\\n          Hewlett  Packard  machine was coupled to display on a SHOgraphics\\n          PEX terminal. HP showcased their latest  PHIGS  product  enhance-\\n          ments.\\n\\n\\n          PHIGS USER GROUP\\n\\n          The PHIGS Users Group was formed to aid the development of  PHIGS\\n          applications  and provide user feedback to PHIGS implementors and\\n          PHIGS standards bodies.  For more  information  about  the  PHIGS\\n          Users Group, send e-mail to:\\n\\n                    phigsug@cadrt10.me.vt.edu\\n\\n          or write to:\\n\\n                    Sankar Jayaram\\n                    Virginia Polytechnic Institute\\n                    114 Randolph Hall\\n                    Blacksburg, Va. 24061-0238\\n                    FAX: 703-231-9100\\n\\n\\n          VENDOR CONTACTS\\n\\n          Megatek Corporation\\n          TEL (619) 455-5590\\n          FAX (619) 453-7603\\n\\n          Template Graphics Software\\n          TEL (800) 544-4847\\n          FAX (619) 452-2547\\n\\n          WISE software GmbH\\n          TEL +49-451-3909-413\\n          FAX +49-451-3909-499\\n\\n          G5G - North American Sales\\n          TEL (800) 267-2626\\n          FAX (613) 592-1278\\n\\n          Advanced Technology Center\\n          TEL (800) 999-5711\\n          FAX (714) 583-9213\\n\\n          Digital Equipment Corporation\\n          TEL (603) 884-5111\\n\\n          International Business Machines Corporation\\n          TEL (800) 426-3333\\n\\n          Hewlett Packard Company\\n          TEL (303) 229-3800\\n\\n          COPIES OF THE CONFERENCE PROCEEDINGS\\n\\n          Copies of the conference proceedings may be obtained by  contact-\\n          ing Mary Johnson at:\\n\\n                    Johnson, Mary\\n                    Design and Manufacturing Institute\\n                    Rensselaer Polytechnic Institute\\n                    110 Eighth Street\\n                    Building CII, Room 7015\\n                    Troy, NY  12180-3590\\n                    Tel:  (518)276-6754\\n                    Fax:  (518)276-2702\\n                    Email:  mjohnson@rdrc.rpi.edu\\n'\n ...\n \"\\n\\nOh gee, a billion dollars!  That'd be just about enough to cover the cost of the\\nfeasability study!  Happy, Happy, JOY! JOY!\"\n 'I am looking for software to run on my brand new Targa+ 16/32. If anyone knows\\nof any sites which have useful stuff, or if you have any yourself you want to\\ngive, let me know via mail. Thanks a LOT! Yayayay!\\n                                     jamie@ddsw1.mcs.com\\n\\n'\n \"Within the next several months I'll be looking for a job in computer\\ngraphics software.  I'm in need of info on graphics software companies. \\nI've checked the FAQ, the resource list, and siggraph.org, haven't found\\nanything.  The last Computer Graphics Career Handbook that I'm aware of,\\nwas published in 1991.  It has a list of 40 companies in it, but no\\ntremendously specific information on any of them.\\n\\nCan people please steer me towards more current and in-depth informational\\nresources?  Thanks.  I'll post a summary if there's interest.\\n\\nBrandon\\n\\n\\n\"].\nReshape your data either using array.reshape(-1, 1) if your data has a single feature or array.reshape(1, -1) if it contains a single sample.",
          "output_type": "error",
          "traceback": [
            "\u001b[1;31m---------------------------------------------------------------------------\u001b[0m",
            "\u001b[1;31mValueError\u001b[0m                                Traceback (most recent call last)",
            "\u001b[1;32m~\\AppData\\Local\\Temp\\ipykernel_4184\\2163227152.py\u001b[0m in \u001b[0;36m<module>\u001b[1;34m\u001b[0m\n\u001b[0;32m      5\u001b[0m \u001b[0mv_score\u001b[0m \u001b[1;33m=\u001b[0m \u001b[0mmetrics\u001b[0m\u001b[1;33m.\u001b[0m\u001b[0mv_measure_score\u001b[0m\u001b[1;33m(\u001b[0m\u001b[0mlabels\u001b[0m\u001b[1;33m,\u001b[0m \u001b[0mclusters_found\u001b[0m\u001b[1;33m)\u001b[0m\u001b[1;33m\u001b[0m\u001b[1;33m\u001b[0m\u001b[0m\n\u001b[0;32m      6\u001b[0m \u001b[0mari_score\u001b[0m \u001b[1;33m=\u001b[0m \u001b[0mmetrics\u001b[0m\u001b[1;33m.\u001b[0m\u001b[0madjusted_rand_score\u001b[0m\u001b[1;33m(\u001b[0m\u001b[0mlabels\u001b[0m\u001b[1;33m,\u001b[0m \u001b[0mclusters_found\u001b[0m\u001b[1;33m)\u001b[0m\u001b[1;33m\u001b[0m\u001b[1;33m\u001b[0m\u001b[0m\n\u001b[1;32m----> 7\u001b[1;33m \u001b[0msilhouette_score\u001b[0m \u001b[1;33m=\u001b[0m \u001b[0mmetrics\u001b[0m\u001b[1;33m.\u001b[0m\u001b[0msilhouette_score\u001b[0m\u001b[1;33m(\u001b[0m\u001b[0mdataset\u001b[0m\u001b[1;33m.\u001b[0m\u001b[0mdata\u001b[0m\u001b[1;33m,\u001b[0m \u001b[0mclusters_found\u001b[0m\u001b[1;33m,\u001b[0m \u001b[0msample_size\u001b[0m\u001b[1;33m=\u001b[0m\u001b[1;36m2000\u001b[0m\u001b[1;33m)\u001b[0m\u001b[1;33m\u001b[0m\u001b[1;33m\u001b[0m\u001b[0m\n\u001b[0m\u001b[0;32m      8\u001b[0m \u001b[1;33m\u001b[0m\u001b[0m\n\u001b[0;32m      9\u001b[0m \u001b[0mprint\u001b[0m\u001b[1;33m(\u001b[0m\u001b[1;34mf\"clustering done in {train_time:.2f} s \"\u001b[0m\u001b[1;33m)\u001b[0m\u001b[1;33m\u001b[0m\u001b[1;33m\u001b[0m\u001b[0m\n",
            "\u001b[1;32mc:\\Users\\erics\\anaconda3\\lib\\site-packages\\sklearn\\metrics\\cluster\\_unsupervised.py\u001b[0m in \u001b[0;36msilhouette_score\u001b[1;34m(X, labels, metric, sample_size, random_state, **kwds)\u001b[0m\n\u001b[0;32m    108\u001b[0m     \"\"\"\n\u001b[0;32m    109\u001b[0m     \u001b[1;32mif\u001b[0m \u001b[0msample_size\u001b[0m \u001b[1;32mis\u001b[0m \u001b[1;32mnot\u001b[0m \u001b[1;32mNone\u001b[0m\u001b[1;33m:\u001b[0m\u001b[1;33m\u001b[0m\u001b[1;33m\u001b[0m\u001b[0m\n\u001b[1;32m--> 110\u001b[1;33m         \u001b[0mX\u001b[0m\u001b[1;33m,\u001b[0m \u001b[0mlabels\u001b[0m \u001b[1;33m=\u001b[0m \u001b[0mcheck_X_y\u001b[0m\u001b[1;33m(\u001b[0m\u001b[0mX\u001b[0m\u001b[1;33m,\u001b[0m \u001b[0mlabels\u001b[0m\u001b[1;33m,\u001b[0m \u001b[0maccept_sparse\u001b[0m\u001b[1;33m=\u001b[0m\u001b[1;33m[\u001b[0m\u001b[1;34m\"csc\"\u001b[0m\u001b[1;33m,\u001b[0m \u001b[1;34m\"csr\"\u001b[0m\u001b[1;33m]\u001b[0m\u001b[1;33m)\u001b[0m\u001b[1;33m\u001b[0m\u001b[1;33m\u001b[0m\u001b[0m\n\u001b[0m\u001b[0;32m    111\u001b[0m         \u001b[0mrandom_state\u001b[0m \u001b[1;33m=\u001b[0m \u001b[0mcheck_random_state\u001b[0m\u001b[1;33m(\u001b[0m\u001b[0mrandom_state\u001b[0m\u001b[1;33m)\u001b[0m\u001b[1;33m\u001b[0m\u001b[1;33m\u001b[0m\u001b[0m\n\u001b[0;32m    112\u001b[0m         \u001b[0mindices\u001b[0m \u001b[1;33m=\u001b[0m \u001b[0mrandom_state\u001b[0m\u001b[1;33m.\u001b[0m\u001b[0mpermutation\u001b[0m\u001b[1;33m(\u001b[0m\u001b[0mX\u001b[0m\u001b[1;33m.\u001b[0m\u001b[0mshape\u001b[0m\u001b[1;33m[\u001b[0m\u001b[1;36m0\u001b[0m\u001b[1;33m]\u001b[0m\u001b[1;33m)\u001b[0m\u001b[1;33m[\u001b[0m\u001b[1;33m:\u001b[0m\u001b[0msample_size\u001b[0m\u001b[1;33m]\u001b[0m\u001b[1;33m\u001b[0m\u001b[1;33m\u001b[0m\u001b[0m\n",
            "\u001b[1;32mc:\\Users\\erics\\anaconda3\\lib\\site-packages\\sklearn\\utils\\validation.py\u001b[0m in \u001b[0;36mcheck_X_y\u001b[1;34m(X, y, accept_sparse, accept_large_sparse, dtype, order, copy, force_all_finite, ensure_2d, allow_nd, multi_output, ensure_min_samples, ensure_min_features, y_numeric, estimator)\u001b[0m\n\u001b[0;32m    962\u001b[0m         \u001b[1;32mraise\u001b[0m \u001b[0mValueError\u001b[0m\u001b[1;33m(\u001b[0m\u001b[1;34m\"y cannot be None\"\u001b[0m\u001b[1;33m)\u001b[0m\u001b[1;33m\u001b[0m\u001b[1;33m\u001b[0m\u001b[0m\n\u001b[0;32m    963\u001b[0m \u001b[1;33m\u001b[0m\u001b[0m\n\u001b[1;32m--> 964\u001b[1;33m     X = check_array(\n\u001b[0m\u001b[0;32m    965\u001b[0m         \u001b[0mX\u001b[0m\u001b[1;33m,\u001b[0m\u001b[1;33m\u001b[0m\u001b[1;33m\u001b[0m\u001b[0m\n\u001b[0;32m    966\u001b[0m         \u001b[0maccept_sparse\u001b[0m\u001b[1;33m=\u001b[0m\u001b[0maccept_sparse\u001b[0m\u001b[1;33m,\u001b[0m\u001b[1;33m\u001b[0m\u001b[1;33m\u001b[0m\u001b[0m\n",
            "\u001b[1;32mc:\\Users\\erics\\anaconda3\\lib\\site-packages\\sklearn\\utils\\validation.py\u001b[0m in \u001b[0;36mcheck_array\u001b[1;34m(array, accept_sparse, accept_large_sparse, dtype, order, copy, force_all_finite, ensure_2d, allow_nd, ensure_min_samples, ensure_min_features, estimator)\u001b[0m\n\u001b[0;32m    767\u001b[0m             \u001b[1;31m# If input is 1D raise error\u001b[0m\u001b[1;33m\u001b[0m\u001b[1;33m\u001b[0m\u001b[0m\n\u001b[0;32m    768\u001b[0m             \u001b[1;32mif\u001b[0m \u001b[0marray\u001b[0m\u001b[1;33m.\u001b[0m\u001b[0mndim\u001b[0m \u001b[1;33m==\u001b[0m \u001b[1;36m1\u001b[0m\u001b[1;33m:\u001b[0m\u001b[1;33m\u001b[0m\u001b[1;33m\u001b[0m\u001b[0m\n\u001b[1;32m--> 769\u001b[1;33m                 raise ValueError(\n\u001b[0m\u001b[0;32m    770\u001b[0m                     \u001b[1;34m\"Expected 2D array, got 1D array instead:\\narray={}.\\n\"\u001b[0m\u001b[1;33m\u001b[0m\u001b[1;33m\u001b[0m\u001b[0m\n\u001b[0;32m    771\u001b[0m                     \u001b[1;34m\"Reshape your data either using array.reshape(-1, 1) if \"\u001b[0m\u001b[1;33m\u001b[0m\u001b[1;33m\u001b[0m\u001b[0m\n",
            "\u001b[1;31mValueError\u001b[0m: Expected 2D array, got 1D array instead:\narray=[\"My point is that you set up your views as the only way to believe.  Saying \\nthat all eveil in this world is caused by atheism is ridiculous and \\ncounterproductive to dialogue in this newsgroups.  I see in your posts a \\nspirit of condemnation of the atheists in this newsgroup bacause they don'\\nt believe exactly as you do.  If you're here to try to convert the atheists \\nhere, you're failing miserably.  Who wants to be in position of constantly \\ndefending themselves agaist insulting attacks, like you seem to like to do?!\\nI'm sorry you're so blind that you didn't get the messgae in the quote, \\neveryone else has seemed to.\"\n \"\\nBy '8 grey level images' you mean 8 items of 1bit images?\\nIt does work(!), but it doesn't work if you have more than 1bit\\nin your screen and if the screen intensity is non-linear.\\n\\nWith 2 bit per pixel; there could be 1*c_1 + 4*c_2 timing,\\nthis gives 16 levels, but they are linear if screen intensity is\\nlinear.\\nWith 1*c_1 + 2*c_2 it works, but we have to find the best\\ncompinations -- there's 10 levels, but 16 choises; best 10 must be\\nchosen. Different compinations for the same level, varies a bit, but\\nthe levels keeps their order.\\n\\nReaders should verify what I wrote... :-)\"\n 'FIRST ANNUAL PHIGS USER GROUP CONFERENCE\\n\\n          The First Annual PHIGS User Group Conference was held March 21-24\\n          in Orlando, Florida.  The conference was organized by the Rensse-\\n          laer Design Research Center in co-operation with  IEEE  and  SIG-\\n          GRAPH.   Attendees  came  from five countries spanning three con-\\n          tinents.   A  good  cross-section  of  the  PHIGS  community  was\\n          represented  at this conference with participants including PHIGS\\n          users, workstation vendors, third-party PHIGS implementors, stan-\\n          dards  committee  members,  and  researchers  from  industry  and\\n          academia.  The opening speaker, Dr. Richard Puk, challenged PHIGS\\n          users  to  \"take  charge of your PHIGS\" by participating in PHIGS\\n          standardization activities and communicating their needs to PHIGS\\n          implementors.    The   closing  speaker,  Dr.  Andries  Van  Dam,\\n          described his vision of the future of graphics standards  \"beyond\\n          PHIGS\".\\n\\n          Technical paper sessions in the conference covered the  following\\n          topics:  PHIGS  and  X, Application Toolkits, Application Issues,\\n          Texture Mapping, NURBS,  PHIGS  Extensions,  and  Object-Oriented\\n          Libraries and Frameworks.  Panel sessions on PHIGS and PEX, PHIGS\\n          Non-Retained Data, Real-World CAD Applications Using  PHIGS,  and\\n          Portability  Issues generated enthusiastic discussions and formed\\n          a good forum for exchange of ideas, needs, and experiences.   The\\n          conference  also included a day full of tutorials on topics rang-\\n          ing from mathematics for 3D  graphics  to  object-oriented  tools\\n          based on PHIGS.\\n\\n          Next year\\'s conference is planned for March, 1994.\\n\\n          PHIGS EVERYWHERE\\n\\n          At the conference, PHIGS  vendors   described   and  demonstrated\\n          PHIGS  products  that  run on all types of computers, from PCs to\\n          mainframes.\\n\\n          Megatek Corporation demonstrated their PHIGS extensions including\\n          conditional traversal, composite logical input devices, texturing\\n          and translucency.\\n\\n          Template Graphics  Software  launched  FIGARO+  PRO,  the  Photo-\\n          Realistic  Option  for  PHIGS+.  FIGARO+  PRO  is designed to add\\n          advanced rendering to the existing PHIGS+ API, with features like\\n          ray   tracing,  materials,  anti-aliasing  and  texture  mapping.\\n          Radiosity support is also planned.\\n\\n          FIGARO+ is an example of how TGS continues to add newly  emerging\\n          graphics  features to their products.  FIGARO+ supports immediate\\n          mode extensions to PHIGS and also supports SUN XGL,  HP  Starbase\\n          and SGI GL/OpenGL. FIGARO+ for NT will be released this summer.\\n\\n          TGS also demonstrated the latest versions of FIGraph, a  powerful\\n          \"2-call\"  charting  system  based on PHIGS+, and FIGt, an object-\\n          oriented utility library for PHIGS/PEX developers.\\n\\n          G5G and Gallium Software demonstrated a new version of GPHIGS  on\\n          Silicon  Graphics  workstations. Scheduled for summer, 1993, Ver-\\n          sion 3.0 of GPHIGS, the company\\'s  PHIGS+  library  for  worksta-\\n          tions,  will include an advanced PHIGS debugger that allows PHIGS\\n          developers to display and browse PHIGS structures and other PHIGS\\n          internal  state.  G5G  also  described  their Non-Duplicated Data\\n          Store that stores pointers to application data in the GPHIGS  CSS\\n          for  more  efficient  use  of  memory. In addition, G5G described\\n          their application GSE that allows application callback  functions\\n          during  GPHIGS traversal.  GPHIGS and PHIGURE, G5G\\'s data visual-\\n          izer and application development toolkit, are currently available\\n          on  all  major  workstations  that support GL, X Windows, PEX, or\\n          Starbase.\\n\\n          Wise Software presented a slide show of  Z-PHIGS  for  MS-Windows\\n          and ARENA, a PHIGS based modeller/render. Z-PHIGS implements most\\n          of the PHIGS+ primitives.  In addition Z-PHIGS has built in  many\\n          advanced  rendering features like texture mapping, shadow genera-\\n          tion, area quick updates and ray tracing. A demo disk of  Z-PHIGS\\n          or ARENA is available on request.\\n\\n          ATC exhibited GRAFPAK-PHIGS, their full-featured PHIGS  implemen-\\n          tation  based  on  DEC  PHIGS. GRAFPAK-PHIGS is available on most\\n          workstation platforms with C, FORTRAN and Ada bindings and incor-\\n          porates PEX support.\\n\\n          Within the booth sponsored by Advanced Technology Center, Digital\\n          Equipment  Corporation demonstrated DEC PHIGS V2.4 running on the\\n          DEC 3000/400 AXP PXG. ATCs\\' GRAFPAK-PHIGS is a port of DEC PHIGS.\\n          DEC  PHIGS  V2.4 contains most PHIGS and PHIGS PLUS features with\\n          support for PEX V5.1  protocol.  DEC  PHIGS  also  contains  most\\n          GM/EDS   PHIGS  extensions  including  post-to-view  as  well  as\\n          proprietary extensions to support immediate  mode  rendering  and\\n          the use of PHIGS in an X11 environment.\\n\\n          AXP, DEC, and DEC PHIGS are trademarks of Digital Equipment  Cor-\\n          poration.  GRAFPAK-PHIGS and ATC are trademarks of Advanced Tech-\\n          nology Center. PEX and X11 are trademarks of Massachusetts Insti-\\n          tute of Technology.\\n\\n          The IBM exhibit featured a GTO accelerator attached to an IBM 340\\n          workstation running graPHIGS and PEX.\\n\\n          Hewlett Packard and SHOgraphics demonstrated at the conference. A\\n          Hewlett  Packard  machine was coupled to display on a SHOgraphics\\n          PEX terminal. HP showcased their latest  PHIGS  product  enhance-\\n          ments.\\n\\n\\n          PHIGS USER GROUP\\n\\n          The PHIGS Users Group was formed to aid the development of  PHIGS\\n          applications  and provide user feedback to PHIGS implementors and\\n          PHIGS standards bodies.  For more  information  about  the  PHIGS\\n          Users Group, send e-mail to:\\n\\n                    phigsug@cadrt10.me.vt.edu\\n\\n          or write to:\\n\\n                    Sankar Jayaram\\n                    Virginia Polytechnic Institute\\n                    114 Randolph Hall\\n                    Blacksburg, Va. 24061-0238\\n                    FAX: 703-231-9100\\n\\n\\n          VENDOR CONTACTS\\n\\n          Megatek Corporation\\n          TEL (619) 455-5590\\n          FAX (619) 453-7603\\n\\n          Template Graphics Software\\n          TEL (800) 544-4847\\n          FAX (619) 452-2547\\n\\n          WISE software GmbH\\n          TEL +49-451-3909-413\\n          FAX +49-451-3909-499\\n\\n          G5G - North American Sales\\n          TEL (800) 267-2626\\n          FAX (613) 592-1278\\n\\n          Advanced Technology Center\\n          TEL (800) 999-5711\\n          FAX (714) 583-9213\\n\\n          Digital Equipment Corporation\\n          TEL (603) 884-5111\\n\\n          International Business Machines Corporation\\n          TEL (800) 426-3333\\n\\n          Hewlett Packard Company\\n          TEL (303) 229-3800\\n\\n          COPIES OF THE CONFERENCE PROCEEDINGS\\n\\n          Copies of the conference proceedings may be obtained by  contact-\\n          ing Mary Johnson at:\\n\\n                    Johnson, Mary\\n                    Design and Manufacturing Institute\\n                    Rensselaer Polytechnic Institute\\n                    110 Eighth Street\\n                    Building CII, Room 7015\\n                    Troy, NY  12180-3590\\n                    Tel:  (518)276-6754\\n                    Fax:  (518)276-2702\\n                    Email:  mjohnson@rdrc.rpi.edu\\n'\n ...\n \"\\n\\nOh gee, a billion dollars!  That'd be just about enough to cover the cost of the\\nfeasability study!  Happy, Happy, JOY! JOY!\"\n 'I am looking for software to run on my brand new Targa+ 16/32. If anyone knows\\nof any sites which have useful stuff, or if you have any yourself you want to\\ngive, let me know via mail. Thanks a LOT! Yayayay!\\n                                     jamie@ddsw1.mcs.com\\n\\n'\n \"Within the next several months I'll be looking for a job in computer\\ngraphics software.  I'm in need of info on graphics software companies. \\nI've checked the FAQ, the resource list, and siggraph.org, haven't found\\nanything.  The last Computer Graphics Career Handbook that I'm aware of,\\nwas published in 1991.  It has a list of 40 companies in it, but no\\ntremendously specific information on any of them.\\n\\nCan people please steer me towards more current and in-depth informational\\nresources?  Thanks.  I'll post a summary if there's interest.\\n\\nBrandon\\n\\n\\n\"].\nReshape your data either using array.reshape(-1, 1) if your data has a single feature or array.reshape(1, -1) if it contains a single sample."
          ]
        }
      ],
      "source": [
        "name = \"AntClust\\n Cosine Similarity\"\n",
        "scores = defaultdict(list)\n",
        "homogeneity_score = metrics.homogeneity_score(labels, clusters_found)\n",
        "completeness_score = metrics.completeness_score(labels, clusters_found)\n",
        "v_score = metrics.v_measure_score(labels, clusters_found)\n",
        "ari_score = metrics.adjusted_rand_score(labels, clusters_found)\n",
        "\n",
        "print(f\"clustering done in {train_time:.2f} s \")\n",
        "print(f\"Homogeneity: {homogeneity_score}\")\n",
        "print(f\"Completeness: {completeness_score}\")\n",
        "print(f\"V-measure: {v_score}\")\n",
        "print(f\"Adjusted Rand-Index: {ari_score}\")\n",
        "\n"
      ]
    },
    {
      "cell_type": "code",
      "execution_count": 50,
      "metadata": {},
      "outputs": [],
      "source": [
        "data = {\n",
        "    'train_time': train_time,\n",
        "    'Homogeneity': homogeneity_score,\n",
        "    'Completeness': completeness_score,\n",
        "    'V-measure': v_score,\n",
        "    'Adjusted Rand-Index': ari_score,\n",
        "}\n",
        "\n",
        "# Creating a new DataFrame with the data for the new row\n",
        "new_row = pd.DataFrame(data, index=[name])\n",
        "\n",
        "# Concatenate the new row with the original DataFrame\n",
        "df = pd.concat([df, new_row])"
      ]
    },
    {
      "cell_type": "code",
      "execution_count": 51,
      "metadata": {},
      "outputs": [
        {
          "data": {
            "image/png": "[encoded data removed]",
            "text/plain": [
              "<Figure size 640x480 with 1 Axes>"
            ]
          },
          "metadata": {},
          "output_type": "display_data"
        }
      ],
      "source": [
        "df.drop(\n",
        "    [\"train_time\", \"Silhouette Coefficient\"],\n",
        "    axis=\"columns\",\n",
        ").plot.barh()\n",
        "plt.xlabel(\"Clustering scores\")\n",
        "plt.ylabel(\"\")\n",
        "plt.show()"
      ]
    },
    {
      "cell_type": "code",
      "execution_count": 52,
      "metadata": {},
      "outputs": [
        {
          "data": {
            "text/html": [
              "<div>\n",
              "<style scoped>\n",
              "    .dataframe tbody tr th:only-of-type {\n",
              "        vertical-align: middle;\n",
              "    }\n",
              "\n",
              "    .dataframe tbody tr th {\n",
              "        vertical-align: top;\n",
              "    }\n",
              "\n",
              "    .dataframe thead th {\n",
              "        text-align: right;\n",
              "    }\n",
              "</style>\n",
              "<table border=\"1\" class=\"dataframe\">\n",
              "  <thead>\n",
              "    <tr style=\"text-align: right;\">\n",
              "      <th></th>\n",
              "      <th>train_time</th>\n",
              "      <th>Homogeneity</th>\n",
              "      <th>Completeness</th>\n",
              "      <th>V-measure</th>\n",
              "      <th>Adjusted Rand-Index</th>\n",
              "      <th>Silhouette Coefficient</th>\n",
              "    </tr>\n",
              "  </thead>\n",
              "  <tbody>\n",
              "    <tr>\n",
              "      <th>KMeans\\nwith LSA on hashed vectors</th>\n",
              "      <td>0.111114</td>\n",
              "      <td>0.392749</td>\n",
              "      <td>0.441747</td>\n",
              "      <td>0.415805</td>\n",
              "      <td>0.330707</td>\n",
              "      <td>0.030190</td>\n",
              "    </tr>\n",
              "    <tr>\n",
              "      <th>KMeans\\nwith LSA on tf-idf vectors</th>\n",
              "      <td>0.086680</td>\n",
              "      <td>0.393501</td>\n",
              "      <td>0.435161</td>\n",
              "      <td>0.413194</td>\n",
              "      <td>0.323662</td>\n",
              "      <td>0.031571</td>\n",
              "    </tr>\n",
              "    <tr>\n",
              "      <th>KMeans\\non tf-idf vectors</th>\n",
              "      <td>6.402485</td>\n",
              "      <td>0.343134</td>\n",
              "      <td>0.404380</td>\n",
              "      <td>0.370404</td>\n",
              "      <td>0.212785</td>\n",
              "      <td>0.007766</td>\n",
              "    </tr>\n",
              "    <tr>\n",
              "      <th>AntClust\\n Cosine Similarity</th>\n",
              "      <td>730.867769</td>\n",
              "      <td>0.484350</td>\n",
              "      <td>0.242738</td>\n",
              "      <td>0.323400</td>\n",
              "      <td>0.192821</td>\n",
              "      <td>NaN</td>\n",
              "    </tr>\n",
              "  </tbody>\n",
              "</table>\n",
              "</div>"
            ],
            "text/plain": [
              "                                    train_time  Homogeneity  Completeness  \\\n",
              "KMeans\\nwith LSA on hashed vectors    0.111114     0.392749      0.441747   \n",
              "KMeans\\nwith LSA on tf-idf vectors    0.086680     0.393501      0.435161   \n",
              "KMeans\\non tf-idf vectors             6.402485     0.343134      0.404380   \n",
              "AntClust\\n Cosine Similarity        730.867769     0.484350      0.242738   \n",
              "\n",
              "                                    V-measure  Adjusted Rand-Index  \\\n",
              "KMeans\\nwith LSA on hashed vectors   0.415805             0.330707   \n",
              "KMeans\\nwith LSA on tf-idf vectors   0.413194             0.323662   \n",
              "KMeans\\non tf-idf vectors            0.370404             0.212785   \n",
              "AntClust\\n Cosine Similarity         0.323400             0.192821   \n",
              "\n",
              "                                    Silhouette Coefficient  \n",
              "KMeans\\nwith LSA on hashed vectors                0.030190  \n",
              "KMeans\\nwith LSA on tf-idf vectors                0.031571  \n",
              "KMeans\\non tf-idf vectors                         0.007766  \n",
              "AntClust\\n Cosine Similarity                           NaN  "
            ]
          },
          "execution_count": 52,
          "metadata": {},
          "output_type": "execute_result"
        }
      ],
      "source": [
        "df "
      ]
    },
    {
      "cell_type": "code",
      "execution_count": null,
      "metadata": {},
      "outputs": [],
      "source": []
    }
  ],
  "metadata": {
    "kernelspec": {
      "display_name": "Python 3",
      "language": "python",
      "name": "python3"
    },
    "language_info": {
      "codemirror_mode": {
        "name": "ipython",
        "version": 3
      },
      "file_extension": ".py",
      "mimetype": "text/x-python",
      "name": "python",
      "nbconvert_exporter": "python",
      "pygments_lexer": "ipython3",
      "version": "3.9.13"
    }
  },
  "nbformat": 4,
  "nbformat_minor": 0
}
